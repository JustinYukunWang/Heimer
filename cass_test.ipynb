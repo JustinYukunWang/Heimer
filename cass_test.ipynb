{
 "cells": [
  {
   "cell_type": "code",
   "execution_count": 4,
   "id": "7fe923ab-c0a4-4a81-9dac-471a7b43d377",
   "metadata": {},
   "outputs": [
    {
     "name": "stdout",
     "output_type": "stream",
     "text": [
      "Requirement already satisfied: cassiopeia in d:\\anaconda\\lib\\site-packages (5.1.3)\n",
      "Requirement already satisfied: datapipelines>=1.0.7 in d:\\anaconda\\lib\\site-packages (from cassiopeia) (1.0.7)\n",
      "Requirement already satisfied: merakicommons>=1.0.10 in d:\\anaconda\\lib\\site-packages (from cassiopeia) (1.0.10)\n",
      "Requirement already satisfied: Pillow in d:\\anaconda\\lib\\site-packages (from cassiopeia) (10.3.0)\n",
      "Requirement already satisfied: arrow in d:\\anaconda\\lib\\site-packages (from cassiopeia) (1.2.3)\n",
      "Requirement already satisfied: requests in d:\\anaconda\\lib\\site-packages (from cassiopeia) (2.32.2)\n",
      "Requirement already satisfied: networkx in d:\\anaconda\\lib\\site-packages (from datapipelines>=1.0.7->cassiopeia) (3.2.1)\n",
      "Requirement already satisfied: python-dateutil>=2.7.0 in d:\\anaconda\\lib\\site-packages (from arrow->cassiopeia) (2.9.0.post0)\n",
      "Requirement already satisfied: charset-normalizer<4,>=2 in d:\\anaconda\\lib\\site-packages (from requests->cassiopeia) (2.0.4)\n",
      "Requirement already satisfied: idna<4,>=2.5 in d:\\anaconda\\lib\\site-packages (from requests->cassiopeia) (3.7)\n",
      "Requirement already satisfied: urllib3<3,>=1.21.1 in d:\\anaconda\\lib\\site-packages (from requests->cassiopeia) (2.2.2)\n",
      "Requirement already satisfied: certifi>=2017.4.17 in d:\\anaconda\\lib\\site-packages (from requests->cassiopeia) (2024.7.4)\n",
      "Requirement already satisfied: six>=1.5 in d:\\anaconda\\lib\\site-packages (from python-dateutil>=2.7.0->arrow->cassiopeia) (1.16.0)\n",
      "Note: you may need to restart the kernel to use updated packages.\n"
     ]
    }
   ],
   "source": [
    " pip install cassiopeia"
   ]
  },
  {
   "cell_type": "code",
   "execution_count": 12,
   "id": "921f7d44-23c7-48b6-b16d-8081e8535716",
   "metadata": {},
   "outputs": [],
   "source": [
    "import datetime\n",
    "import cassiopeia as cass\n",
    "from cassiopeia import Account\n",
    "from cassiopeia import core"
   ]
  },
  {
   "cell_type": "code",
   "execution_count": 16,
   "id": "e6498c46-16a5-42e8-b6ff-88423f30048a",
   "metadata": {},
   "outputs": [],
   "source": [
    "cass.set_riot_api_key(\"RGAPI-7a02381c-0e4f-4e5a-8c64-24dbc5914f80\")\n",
    "REGION = \"NA\""
   ]
  },
  {
   "cell_type": "code",
   "execution_count": 22,
   "id": "ebb7584c-a933-4264-9d33-f51dd5133bef",
   "metadata": {},
   "outputs": [],
   "source": [
    "name = \"拳头马斯了123\"\n",
    "tagline=\"44444\"\n",
    "region=\"NA\""
   ]
  },
  {
   "cell_type": "code",
   "execution_count": 44,
   "id": "ad7a9456-a326-4378-81ac-b0f86271ac15",
   "metadata": {},
   "outputs": [],
   "source": [
    "account = cass.get_account(name=name, tagline=tagline, region=region)"
   ]
  },
  {
   "cell_type": "code",
   "execution_count": 46,
   "id": "fe9ed971-d6bc-4676-9b7e-2d063c6933e8",
   "metadata": {},
   "outputs": [
    {
     "ename": "UnicodeEncodeError",
     "evalue": "'ascii' codec can't encode characters in position 71-75: ordinal not in range(128)",
     "output_type": "error",
     "traceback": [
      "\u001b[1;31m---------------------------------------------------------------------------\u001b[0m",
      "\u001b[1;31mAttributeError\u001b[0m                            Traceback (most recent call last)",
      "File \u001b[1;32mD:\\anaconda\\Lib\\site-packages\\merakicommons\\ghost.py:41\u001b[0m, in \u001b[0;36mghost_load_on.<locals>.decorator.<locals>.wrapper\u001b[1;34m(*args, **kwargs)\u001b[0m\n\u001b[0;32m     40\u001b[0m \u001b[38;5;28;01mtry\u001b[39;00m:\n\u001b[1;32m---> 41\u001b[0m     \u001b[38;5;28;01mreturn\u001b[39;00m method(\u001b[38;5;241m*\u001b[39margs, \u001b[38;5;241m*\u001b[39m\u001b[38;5;241m*\u001b[39mkwargs)\n\u001b[0;32m     42\u001b[0m \u001b[38;5;28;01mexcept\u001b[39;00m errors \u001b[38;5;28;01mas\u001b[39;00m error:\n",
      "File \u001b[1;32mD:\\anaconda\\Lib\\site-packages\\cassiopeia\\core\\account.py:154\u001b[0m, in \u001b[0;36mAccount.puuid\u001b[1;34m(self)\u001b[0m\n\u001b[0;32m    151\u001b[0m \u001b[38;5;129m@CassiopeiaGhost\u001b[39m\u001b[38;5;241m.\u001b[39mproperty(AccountData)\n\u001b[0;32m    152\u001b[0m \u001b[38;5;129m@ghost_load_on\u001b[39m\n\u001b[0;32m    153\u001b[0m \u001b[38;5;28;01mdef\u001b[39;00m \u001b[38;5;21mpuuid\u001b[39m(\u001b[38;5;28mself\u001b[39m) \u001b[38;5;241m-\u001b[39m\u001b[38;5;241m>\u001b[39m \u001b[38;5;28mstr\u001b[39m:\n\u001b[1;32m--> 154\u001b[0m     \u001b[38;5;28;01mreturn\u001b[39;00m \u001b[38;5;28mself\u001b[39m\u001b[38;5;241m.\u001b[39m_data[AccountData]\u001b[38;5;241m.\u001b[39mpuuid\n",
      "\u001b[1;31mAttributeError\u001b[0m: 'AccountData' object has no attribute 'puuid'",
      "\nDuring handling of the above exception, another exception occurred:\n",
      "\u001b[1;31mGhostLoadingRequiredError\u001b[0m                 Traceback (most recent call last)",
      "File \u001b[1;32mD:\\anaconda\\Lib\\site-packages\\merakicommons\\ghost.py:87\u001b[0m, in \u001b[0;36mGhost.__property.__get__\u001b[1;34m(self, obj, obj_type)\u001b[0m\n\u001b[0;32m     86\u001b[0m \u001b[38;5;28;01mtry\u001b[39;00m:\n\u001b[1;32m---> 87\u001b[0m     \u001b[38;5;28;01mreturn\u001b[39;00m \u001b[38;5;28mself\u001b[39m\u001b[38;5;241m.\u001b[39mfget(obj)\n\u001b[0;32m     88\u001b[0m \u001b[38;5;28;01mexcept\u001b[39;00m GhostLoadingRequiredError:\n",
      "File \u001b[1;32mD:\\anaconda\\Lib\\site-packages\\merakicommons\\ghost.py:43\u001b[0m, in \u001b[0;36mghost_load_on.<locals>.decorator.<locals>.wrapper\u001b[1;34m(*args, **kwargs)\u001b[0m\n\u001b[0;32m     42\u001b[0m \u001b[38;5;28;01mexcept\u001b[39;00m errors \u001b[38;5;28;01mas\u001b[39;00m error:\n\u001b[1;32m---> 43\u001b[0m     \u001b[38;5;28;01mraise\u001b[39;00m GhostLoadingRequiredError(\u001b[38;5;28mstr\u001b[39m(error))\n",
      "\u001b[1;31mGhostLoadingRequiredError\u001b[0m: 'AccountData' object has no attribute 'puuid'",
      "\nDuring handling of the above exception, another exception occurred:\n",
      "\u001b[1;31mUnicodeEncodeError\u001b[0m                        Traceback (most recent call last)",
      "Cell \u001b[1;32mIn[46], line 1\u001b[0m\n\u001b[1;32m----> 1\u001b[0m account\u001b[38;5;241m.\u001b[39mpuuid\n",
      "File \u001b[1;32mD:\\anaconda\\Lib\\site-packages\\merakicommons\\ghost.py:90\u001b[0m, in \u001b[0;36mGhost.__property.__get__\u001b[1;34m(self, obj, obj_type)\u001b[0m\n\u001b[0;32m     88\u001b[0m \u001b[38;5;28;01mexcept\u001b[39;00m GhostLoadingRequiredError:\n\u001b[0;32m     89\u001b[0m     load_group \u001b[38;5;241m=\u001b[39m \u001b[38;5;28mself\u001b[39m\u001b[38;5;241m.\u001b[39mfget\u001b[38;5;241m.\u001b[39m_Ghost__load_group\n\u001b[1;32m---> 90\u001b[0m     obj\u001b[38;5;241m.\u001b[39m__load__(load_group)\n\u001b[0;32m     91\u001b[0m     obj\u001b[38;5;241m.\u001b[39m_Ghost__set_loaded(load_group)\n\u001b[0;32m     93\u001b[0m     \u001b[38;5;28;01mreturn\u001b[39;00m \u001b[38;5;28mself\u001b[39m\u001b[38;5;241m.\u001b[39mfget(obj)\n",
      "File \u001b[1;32mD:\\anaconda\\Lib\\site-packages\\cassiopeia\\core\\common.py:272\u001b[0m, in \u001b[0;36mCassiopeiaGhost.__load__\u001b[1;34m(self, load_group, load_groups)\u001b[0m\n\u001b[0;32m    264\u001b[0m \u001b[38;5;28;01mif\u001b[39;00m (\n\u001b[0;32m    265\u001b[0m     \u001b[38;5;28mhasattr\u001b[39m(\u001b[38;5;28mself\u001b[39m\u001b[38;5;241m.\u001b[39m\u001b[38;5;18m__class__\u001b[39m, \u001b[38;5;124m\"\u001b[39m\u001b[38;5;124mversion\u001b[39m\u001b[38;5;124m\"\u001b[39m)\n\u001b[0;32m    266\u001b[0m     \u001b[38;5;129;01mand\u001b[39;00m \u001b[38;5;124m\"\u001b[39m\u001b[38;5;124mversion\u001b[39m\u001b[38;5;124m\"\u001b[39m \u001b[38;5;129;01mnot\u001b[39;00m \u001b[38;5;129;01min\u001b[39;00m query\n\u001b[0;32m    267\u001b[0m     \u001b[38;5;129;01mand\u001b[39;00m \u001b[38;5;28mself\u001b[39m\u001b[38;5;241m.\u001b[39m\u001b[38;5;18m__class__\u001b[39m\u001b[38;5;241m.\u001b[39m\u001b[38;5;18m__name__\u001b[39m \u001b[38;5;129;01mnot\u001b[39;00m \u001b[38;5;129;01min\u001b[39;00m [\u001b[38;5;124m\"\u001b[39m\u001b[38;5;124mRealms\u001b[39m\u001b[38;5;124m\"\u001b[39m, \u001b[38;5;124m\"\u001b[39m\u001b[38;5;124mMatch\u001b[39m\u001b[38;5;124m\"\u001b[39m]\n\u001b[0;32m    268\u001b[0m ):\n\u001b[0;32m    269\u001b[0m     query[\u001b[38;5;124m\"\u001b[39m\u001b[38;5;124mversion\u001b[39m\u001b[38;5;124m\"\u001b[39m] \u001b[38;5;241m=\u001b[39m get_latest_version(\n\u001b[0;32m    270\u001b[0m         region\u001b[38;5;241m=\u001b[39mquery[\u001b[38;5;124m\"\u001b[39m\u001b[38;5;124mregion\u001b[39m\u001b[38;5;124m\"\u001b[39m], endpoint\u001b[38;5;241m=\u001b[39m\u001b[38;5;28;01mNone\u001b[39;00m\n\u001b[0;32m    271\u001b[0m     )\n\u001b[1;32m--> 272\u001b[0m data \u001b[38;5;241m=\u001b[39m configuration\u001b[38;5;241m.\u001b[39msettings\u001b[38;5;241m.\u001b[39mpipeline\u001b[38;5;241m.\u001b[39mget(\n\u001b[0;32m    273\u001b[0m     \u001b[38;5;28mtype\u001b[39m\u001b[38;5;241m=\u001b[39m\u001b[38;5;28mself\u001b[39m\u001b[38;5;241m.\u001b[39m_load_types[load_group], query\u001b[38;5;241m=\u001b[39mquery\n\u001b[0;32m    274\u001b[0m )\n\u001b[0;32m    275\u001b[0m \u001b[38;5;28mself\u001b[39m\u001b[38;5;241m.\u001b[39m__load_hook__(load_group, data)\n",
      "File \u001b[1;32mD:\\anaconda\\Lib\\site-packages\\datapipelines\\pipelines.py:459\u001b[0m, in \u001b[0;36mDataPipeline.get\u001b[1;34m(self, type, query)\u001b[0m\n\u001b[0;32m    457\u001b[0m \u001b[38;5;28;01mfor\u001b[39;00m handler \u001b[38;5;129;01min\u001b[39;00m handlers:\n\u001b[0;32m    458\u001b[0m     \u001b[38;5;28;01mtry\u001b[39;00m:\n\u001b[1;32m--> 459\u001b[0m         \u001b[38;5;28;01mreturn\u001b[39;00m handler\u001b[38;5;241m.\u001b[39mget(query, context)\n\u001b[0;32m    460\u001b[0m     \u001b[38;5;28;01mexcept\u001b[39;00m NotFoundError:\n\u001b[0;32m    461\u001b[0m         \u001b[38;5;28;01mpass\u001b[39;00m\n",
      "File \u001b[1;32mD:\\anaconda\\Lib\\site-packages\\datapipelines\\pipelines.py:185\u001b[0m, in \u001b[0;36m_SourceHandler.get\u001b[1;34m(self, query, context)\u001b[0m\n\u001b[0;32m    170\u001b[0m \u001b[38;5;28;01mdef\u001b[39;00m \u001b[38;5;21mget\u001b[39m(\u001b[38;5;28mself\u001b[39m, query: Mapping[\u001b[38;5;28mstr\u001b[39m, Any], context: PipelineContext \u001b[38;5;241m=\u001b[39m \u001b[38;5;28;01mNone\u001b[39;00m) \u001b[38;5;241m-\u001b[39m\u001b[38;5;241m>\u001b[39m T:\n\u001b[0;32m    171\u001b[0m \u001b[38;5;250m    \u001b[39m\u001b[38;5;124;03m\"\"\"Gets a query from the data source.\u001b[39;00m\n\u001b[0;32m    172\u001b[0m \n\u001b[0;32m    173\u001b[0m \u001b[38;5;124;03m    1) Extracts the query from the data source.\u001b[39;00m\n\u001b[1;32m   (...)\u001b[0m\n\u001b[0;32m    183\u001b[0m \u001b[38;5;124;03m        The requested object.\u001b[39;00m\n\u001b[0;32m    184\u001b[0m \u001b[38;5;124;03m    \"\"\"\u001b[39;00m\n\u001b[1;32m--> 185\u001b[0m     result \u001b[38;5;241m=\u001b[39m \u001b[38;5;28mself\u001b[39m\u001b[38;5;241m.\u001b[39m_source\u001b[38;5;241m.\u001b[39mget(\u001b[38;5;28mself\u001b[39m\u001b[38;5;241m.\u001b[39m_source_type, deepcopy(query), context)\n\u001b[0;32m    186\u001b[0m     LOGGER\u001b[38;5;241m.\u001b[39minfo(\u001b[38;5;124m\"\u001b[39m\u001b[38;5;124mGot result \u001b[39m\u001b[38;5;130;01m\\\"\u001b[39;00m\u001b[38;5;132;01m{result}\u001b[39;00m\u001b[38;5;130;01m\\\"\u001b[39;00m\u001b[38;5;124m from query \u001b[39m\u001b[38;5;130;01m\\\"\u001b[39;00m\u001b[38;5;132;01m{query}\u001b[39;00m\u001b[38;5;130;01m\\\"\u001b[39;00m\u001b[38;5;124m of source \u001b[39m\u001b[38;5;130;01m\\\"\u001b[39;00m\u001b[38;5;132;01m{source}\u001b[39;00m\u001b[38;5;130;01m\\\"\u001b[39;00m\u001b[38;5;124m\"\u001b[39m\u001b[38;5;241m.\u001b[39mformat(result\u001b[38;5;241m=\u001b[39mresult, query\u001b[38;5;241m=\u001b[39mquery, source\u001b[38;5;241m=\u001b[39m\u001b[38;5;28mself\u001b[39m\u001b[38;5;241m.\u001b[39m_source))\n\u001b[0;32m    188\u001b[0m     LOGGER\u001b[38;5;241m.\u001b[39minfo(\u001b[38;5;124m\"\u001b[39m\u001b[38;5;124mSending result \u001b[39m\u001b[38;5;130;01m\\\"\u001b[39;00m\u001b[38;5;132;01m{result}\u001b[39;00m\u001b[38;5;130;01m\\\"\u001b[39;00m\u001b[38;5;124m to sinks before converting\u001b[39m\u001b[38;5;124m\"\u001b[39m\u001b[38;5;241m.\u001b[39mformat(result\u001b[38;5;241m=\u001b[39mresult))\n",
      "File \u001b[1;32mD:\\anaconda\\Lib\\site-packages\\datapipelines\\sources.py:120\u001b[0m, in \u001b[0;36mCompositeDataSource.get\u001b[1;34m(self, type, query, context)\u001b[0m\n\u001b[0;32m    118\u001b[0m \u001b[38;5;28;01mfor\u001b[39;00m source \u001b[38;5;129;01min\u001b[39;00m sources:\n\u001b[0;32m    119\u001b[0m     \u001b[38;5;28;01mtry\u001b[39;00m:\n\u001b[1;32m--> 120\u001b[0m         \u001b[38;5;28;01mreturn\u001b[39;00m source\u001b[38;5;241m.\u001b[39mget(\u001b[38;5;28mtype\u001b[39m, deepcopy(query), context)\n\u001b[0;32m    121\u001b[0m     \u001b[38;5;28;01mexcept\u001b[39;00m NotFoundError:\n\u001b[0;32m    122\u001b[0m         \u001b[38;5;28;01mcontinue\u001b[39;00m\n",
      "File \u001b[1;32mD:\\anaconda\\Lib\\site-packages\\datapipelines\\sources.py:69\u001b[0m, in \u001b[0;36mDataSource.dispatch.<locals>.wrapper\u001b[1;34m(self, type, query, context)\u001b[0m\n\u001b[0;32m     67\u001b[0m call \u001b[38;5;241m=\u001b[39m dispatcher\u001b[38;5;241m.\u001b[39mdispatch(\u001b[38;5;28mtype\u001b[39m)\n\u001b[0;32m     68\u001b[0m \u001b[38;5;28;01mtry\u001b[39;00m:\n\u001b[1;32m---> 69\u001b[0m     \u001b[38;5;28;01mreturn\u001b[39;00m call(\u001b[38;5;28mself\u001b[39m, query, context\u001b[38;5;241m=\u001b[39mcontext)\n\u001b[0;32m     70\u001b[0m \u001b[38;5;28;01mexcept\u001b[39;00m \u001b[38;5;167;01mTypeError\u001b[39;00m:\n\u001b[0;32m     71\u001b[0m     \u001b[38;5;28;01mraise\u001b[39;00m DataSource\u001b[38;5;241m.\u001b[39munsupported(\u001b[38;5;28mtype\u001b[39m)\n",
      "File \u001b[1;32mD:\\anaconda\\Lib\\site-packages\\datapipelines\\queries.py:326\u001b[0m, in \u001b[0;36mvalidate_query.<locals>.wrapper.<locals>.wrapped\u001b[1;34m(self, query, context)\u001b[0m\n\u001b[0;32m    323\u001b[0m     transform(query)\n\u001b[0;32m    325\u001b[0m validator(query)\n\u001b[1;32m--> 326\u001b[0m \u001b[38;5;28;01mreturn\u001b[39;00m method(\u001b[38;5;28mself\u001b[39m, query, context)\n",
      "File \u001b[1;32mD:\\anaconda\\Lib\\site-packages\\cassiopeia\\datastores\\riotapi\\account.py:82\u001b[0m, in \u001b[0;36mAccountAPI.get_account\u001b[1;34m(self, query, context)\u001b[0m\n\u001b[0;32m     78\u001b[0m \u001b[38;5;28;01mtry\u001b[39;00m:\n\u001b[0;32m     79\u001b[0m     app_limiter, method_limiter \u001b[38;5;241m=\u001b[39m \u001b[38;5;28mself\u001b[39m\u001b[38;5;241m.\u001b[39m_get_rate_limiter(\n\u001b[0;32m     80\u001b[0m         query[\u001b[38;5;124m\"\u001b[39m\u001b[38;5;124mplatform\u001b[39m\u001b[38;5;124m\"\u001b[39m], endpoint\n\u001b[0;32m     81\u001b[0m     )\n\u001b[1;32m---> 82\u001b[0m     data \u001b[38;5;241m=\u001b[39m \u001b[38;5;28mself\u001b[39m\u001b[38;5;241m.\u001b[39m_get(\n\u001b[0;32m     83\u001b[0m         url, {}, app_limiter\u001b[38;5;241m=\u001b[39mapp_limiter, method_limiter\u001b[38;5;241m=\u001b[39mmethod_limiter\n\u001b[0;32m     84\u001b[0m     )\n\u001b[0;32m     85\u001b[0m \u001b[38;5;28;01mexcept\u001b[39;00m APINotFoundError \u001b[38;5;28;01mas\u001b[39;00m error:\n\u001b[0;32m     86\u001b[0m     \u001b[38;5;28;01mraise\u001b[39;00m NotFoundError(\u001b[38;5;28mstr\u001b[39m(error)) \u001b[38;5;28;01mfrom\u001b[39;00m \u001b[38;5;21;01merror\u001b[39;00m\n",
      "File \u001b[1;32mD:\\anaconda\\Lib\\site-packages\\cassiopeia\\datastores\\riotapi\\common.py:253\u001b[0m, in \u001b[0;36mRiotAPIService._get\u001b[1;34m(self, url, parameters, app_limiter, method_limiter, connection)\u001b[0m\n\u001b[0;32m    244\u001b[0m request \u001b[38;5;241m=\u001b[39m RiotAPIRequest(\n\u001b[0;32m    245\u001b[0m     service\u001b[38;5;241m=\u001b[39m\u001b[38;5;28mself\u001b[39m,\n\u001b[0;32m    246\u001b[0m     url\u001b[38;5;241m=\u001b[39murl,\n\u001b[1;32m   (...)\u001b[0m\n\u001b[0;32m    250\u001b[0m     connection\u001b[38;5;241m=\u001b[39mconnection,\n\u001b[0;32m    251\u001b[0m )\n\u001b[0;32m    252\u001b[0m \u001b[38;5;28;01mtry\u001b[39;00m:\n\u001b[1;32m--> 253\u001b[0m     \u001b[38;5;28;01mreturn\u001b[39;00m request()\n\u001b[0;32m    254\u001b[0m \u001b[38;5;28;01mexcept\u001b[39;00m HTTPError \u001b[38;5;28;01mas\u001b[39;00m error:\n\u001b[0;32m    255\u001b[0m     \u001b[38;5;66;03m# The error handlers didn't work, so raise an appropriate error.\u001b[39;00m\n\u001b[0;32m    256\u001b[0m     new_error_type \u001b[38;5;241m=\u001b[39m _ERROR_CODES[error\u001b[38;5;241m.\u001b[39mcode]\n",
      "File \u001b[1;32mD:\\anaconda\\Lib\\site-packages\\cassiopeia\\datastores\\riotapi\\common.py:334\u001b[0m, in \u001b[0;36mRiotAPIRequest.__call__\u001b[1;34m(self)\u001b[0m\n\u001b[0;32m    332\u001b[0m \u001b[38;5;28;01mdef\u001b[39;00m \u001b[38;5;21m__call__\u001b[39m(\u001b[38;5;28mself\u001b[39m):\n\u001b[0;32m    333\u001b[0m     \u001b[38;5;28;01mtry\u001b[39;00m:\n\u001b[1;32m--> 334\u001b[0m         body, response_headers \u001b[38;5;241m=\u001b[39m \u001b[38;5;28mself\u001b[39m\u001b[38;5;241m.\u001b[39mservice\u001b[38;5;241m.\u001b[39m_client\u001b[38;5;241m.\u001b[39mget(\n\u001b[0;32m    335\u001b[0m             url\u001b[38;5;241m=\u001b[39m\u001b[38;5;28mself\u001b[39m\u001b[38;5;241m.\u001b[39murl,\n\u001b[0;32m    336\u001b[0m             parameters\u001b[38;5;241m=\u001b[39m\u001b[38;5;28mself\u001b[39m\u001b[38;5;241m.\u001b[39mparameters,\n\u001b[0;32m    337\u001b[0m             headers\u001b[38;5;241m=\u001b[39m\u001b[38;5;28mself\u001b[39m\u001b[38;5;241m.\u001b[39mservice\u001b[38;5;241m.\u001b[39m_headers,\n\u001b[0;32m    338\u001b[0m             rate_limiters\u001b[38;5;241m=\u001b[39m[\u001b[38;5;28mself\u001b[39m\u001b[38;5;241m.\u001b[39mapp_limiter, \u001b[38;5;28mself\u001b[39m\u001b[38;5;241m.\u001b[39mmethod_limiter],\n\u001b[0;32m    339\u001b[0m             connection\u001b[38;5;241m=\u001b[39m\u001b[38;5;28mself\u001b[39m\u001b[38;5;241m.\u001b[39mconnection,\n\u001b[0;32m    340\u001b[0m         )\n\u001b[0;32m    341\u001b[0m         \u001b[38;5;28mself\u001b[39m\u001b[38;5;241m.\u001b[39mservice\u001b[38;5;241m.\u001b[39m_adjust_rate_limiters_from_headers(\n\u001b[0;32m    342\u001b[0m             app_limiter\u001b[38;5;241m=\u001b[39m\u001b[38;5;28mself\u001b[39m\u001b[38;5;241m.\u001b[39mapp_limiter,\n\u001b[0;32m    343\u001b[0m             method_limiter\u001b[38;5;241m=\u001b[39m\u001b[38;5;28mself\u001b[39m\u001b[38;5;241m.\u001b[39mmethod_limiter,\n\u001b[0;32m    344\u001b[0m             response_headers\u001b[38;5;241m=\u001b[39mresponse_headers,\n\u001b[0;32m    345\u001b[0m         )\n\u001b[0;32m    346\u001b[0m         \u001b[38;5;28;01mreturn\u001b[39;00m body\n",
      "File \u001b[1;32mD:\\anaconda\\Lib\\site-packages\\cassiopeia\\datastores\\common.py:145\u001b[0m, in \u001b[0;36mHTTPClient.get\u001b[1;34m(self, url, parameters, headers, rate_limiters, connection, encode_parameters)\u001b[0m\n\u001b[0;32m    142\u001b[0m         parameters \u001b[38;5;241m=\u001b[39m urlencode(parameters, doseq\u001b[38;5;241m=\u001b[39m\u001b[38;5;28;01mTrue\u001b[39;00m)\n\u001b[0;32m    143\u001b[0m     url \u001b[38;5;241m=\u001b[39m \u001b[38;5;124m\"\u001b[39m\u001b[38;5;132;01m{url}\u001b[39;00m\u001b[38;5;124m?\u001b[39m\u001b[38;5;132;01m{params}\u001b[39;00m\u001b[38;5;124m\"\u001b[39m\u001b[38;5;241m.\u001b[39mformat(url\u001b[38;5;241m=\u001b[39murl, params\u001b[38;5;241m=\u001b[39mparameters)\n\u001b[1;32m--> 145\u001b[0m status_code, body, response_headers \u001b[38;5;241m=\u001b[39m HTTPClient\u001b[38;5;241m.\u001b[39m_get(\n\u001b[0;32m    146\u001b[0m     url, headers, rate_limiters, connection\n\u001b[0;32m    147\u001b[0m )\n\u001b[0;32m    149\u001b[0m content_type \u001b[38;5;241m=\u001b[39m response_headers\u001b[38;5;241m.\u001b[39mget(\n\u001b[0;32m    150\u001b[0m     \u001b[38;5;124m\"\u001b[39m\u001b[38;5;124mContent-Type\u001b[39m\u001b[38;5;124m\"\u001b[39m, \u001b[38;5;124m\"\u001b[39m\u001b[38;5;124mapplication/octet-stream\u001b[39m\u001b[38;5;124m\"\u001b[39m\n\u001b[0;32m    151\u001b[0m )\u001b[38;5;241m.\u001b[39mupper()\n\u001b[0;32m    153\u001b[0m \u001b[38;5;66;03m# Decode to text if a charset is included\u001b[39;00m\n",
      "File \u001b[1;32mD:\\anaconda\\Lib\\site-packages\\cassiopeia\\datastores\\common.py:85\u001b[0m, in \u001b[0;36mHTTPClient._get\u001b[1;34m(url, headers, rate_limiters, connection)\u001b[0m\n\u001b[0;32m     81\u001b[0m buffer \u001b[38;5;241m=\u001b[39m BytesIO()\n\u001b[0;32m     83\u001b[0m curl \u001b[38;5;241m=\u001b[39m connection \u001b[38;5;28;01mif\u001b[39;00m connection \u001b[38;5;129;01mis\u001b[39;00m \u001b[38;5;129;01mnot\u001b[39;00m \u001b[38;5;28;01mNone\u001b[39;00m \u001b[38;5;28;01melse\u001b[39;00m Curl()\n\u001b[1;32m---> 85\u001b[0m curl\u001b[38;5;241m.\u001b[39msetopt(curl\u001b[38;5;241m.\u001b[39mURL, url)\n\u001b[0;32m     86\u001b[0m curl\u001b[38;5;241m.\u001b[39msetopt(curl\u001b[38;5;241m.\u001b[39mWRITEDATA, buffer)\n\u001b[0;32m     87\u001b[0m curl\u001b[38;5;241m.\u001b[39msetopt(curl\u001b[38;5;241m.\u001b[39mHEADERFUNCTION, get_response_headers)\n",
      "\u001b[1;31mUnicodeEncodeError\u001b[0m: 'ascii' codec can't encode characters in position 71-75: ordinal not in range(128)"
     ]
    }
   ],
   "source": [
    "account.puuid"
   ]
  },
  {
   "cell_type": "code",
   "execution_count": null,
   "id": "5a09a5b7-19e4-45ea-b03c-382dd5793f21",
   "metadata": {},
   "outputs": [],
   "source": []
  }
 ],
 "metadata": {
  "kernelspec": {
   "display_name": "Python 3 (ipykernel)",
   "language": "python",
   "name": "python3"
  },
  "language_info": {
   "codemirror_mode": {
    "name": "ipython",
    "version": 3
   },
   "file_extension": ".py",
   "mimetype": "text/x-python",
   "name": "python",
   "nbconvert_exporter": "python",
   "pygments_lexer": "ipython3",
   "version": "3.12.4"
  }
 },
 "nbformat": 4,
 "nbformat_minor": 5
}
