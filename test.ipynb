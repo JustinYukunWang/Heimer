{
 "cells": [
  {
   "cell_type": "code",
   "execution_count": 2,
   "id": "392dd555-7455-4d5f-aab1-8560b9be693a",
   "metadata": {},
   "outputs": [
    {
     "name": "stdout",
     "output_type": "stream",
     "text": [
      "Requirement already satisfied: cassiopeia in c:\\users\\ikun\\appdata\\local\\programs\\python\\python312\\lib\\site-packages (5.1.3)\n",
      "Requirement already satisfied: datapipelines>=1.0.7 in c:\\users\\ikun\\appdata\\local\\programs\\python\\python312\\lib\\site-packages (from cassiopeia) (1.0.7)\n",
      "Requirement already satisfied: merakicommons>=1.0.10 in c:\\users\\ikun\\appdata\\local\\programs\\python\\python312\\lib\\site-packages (from cassiopeia) (1.0.10)\n",
      "Requirement already satisfied: Pillow in c:\\users\\ikun\\appdata\\local\\programs\\python\\python312\\lib\\site-packages (from cassiopeia) (10.4.0)\n",
      "Requirement already satisfied: arrow in c:\\users\\ikun\\appdata\\local\\programs\\python\\python312\\lib\\site-packages (from cassiopeia) (1.3.0)\n",
      "Requirement already satisfied: requests in c:\\users\\ikun\\appdata\\local\\programs\\python\\python312\\lib\\site-packages (from cassiopeia) (2.32.3)\n",
      "Requirement already satisfied: networkx in c:\\users\\ikun\\appdata\\local\\programs\\python\\python312\\lib\\site-packages (from datapipelines>=1.0.7->cassiopeia) (3.3)\n",
      "Requirement already satisfied: python-dateutil>=2.7.0 in c:\\users\\ikun\\appdata\\local\\programs\\python\\python312\\lib\\site-packages (from arrow->cassiopeia) (2.9.0.post0)\n",
      "Requirement already satisfied: types-python-dateutil>=2.8.10 in c:\\users\\ikun\\appdata\\local\\programs\\python\\python312\\lib\\site-packages (from arrow->cassiopeia) (2.9.0.20240821)\n",
      "Requirement already satisfied: charset-normalizer<4,>=2 in c:\\users\\ikun\\appdata\\local\\programs\\python\\python312\\lib\\site-packages (from requests->cassiopeia) (3.3.2)\n",
      "Requirement already satisfied: idna<4,>=2.5 in c:\\users\\ikun\\appdata\\local\\programs\\python\\python312\\lib\\site-packages (from requests->cassiopeia) (3.8)\n",
      "Requirement already satisfied: urllib3<3,>=1.21.1 in c:\\users\\ikun\\appdata\\local\\programs\\python\\python312\\lib\\site-packages (from requests->cassiopeia) (2.2.2)\n",
      "Requirement already satisfied: certifi>=2017.4.17 in c:\\users\\ikun\\appdata\\local\\programs\\python\\python312\\lib\\site-packages (from requests->cassiopeia) (2024.7.4)\n",
      "Requirement already satisfied: six>=1.5 in c:\\users\\ikun\\appdata\\local\\programs\\python\\python312\\lib\\site-packages (from python-dateutil>=2.7.0->arrow->cassiopeia) (1.16.0)\n"
     ]
    }
   ],
   "source": [
    "!pip install cassiopeia"
   ]
  },
  {
   "cell_type": "code",
   "execution_count": 3,
   "id": "efb95a86-2733-4e58-913b-c0294a862b1e",
   "metadata": {},
   "outputs": [],
   "source": [
    "import datetime\n",
    "import cassiopeia as cass\n",
    "from cassiopeia import Account\n",
    "from cassiopeia import core"
   ]
  },
  {
   "cell_type": "code",
   "execution_count": 4,
   "id": "f268db5b-c2b8-41ce-ad1d-dedc2c3d6ce6",
   "metadata": {},
   "outputs": [],
   "source": [
    "cass.set_riot_api_key(\"RGAPI-c88daaab-100d-4fa6-8a4b-d0ee048d0737\")\n",
    "REGION = \"NA\""
   ]
  },
  {
   "cell_type": "code",
   "execution_count": 5,
   "id": "52b6afea",
   "metadata": {},
   "outputs": [],
   "source": [
    "name = \"拳头马斯了123\"\n",
    "tagline=\"44444\"\n",
    "region=\"NA\""
   ]
  },
  {
   "cell_type": "code",
   "execution_count": 6,
   "id": "3afab568",
   "metadata": {},
   "outputs": [
    {
     "name": "stdout",
     "output_type": "stream",
     "text": [
      "Making call: https://americas.api.riotgames.com/riot/account/v1/accounts/by-riot-id/拳头马斯了123/44444\n"
     ]
    },
    {
     "name": "stderr",
     "output_type": "stream",
     "text": [
      "c:\\Users\\IKUN\\AppData\\Local\\Programs\\Python\\Python312\\Lib\\site-packages\\cassiopeia\\datastores\\common.py:154: SyntaxWarning: invalid escape sequence '\\S'\n",
      "  match = re.search(\"CHARSET=(\\S+)\", content_type)\n",
      "c:\\Users\\IKUN\\AppData\\Local\\Programs\\Python\\Python312\\Lib\\site-packages\\cassiopeia\\datastores\\common.py:255: SyntaxWarning: invalid escape sequence '\\S'\n",
      "  match = re.search(\"CHARSET=(\\S+)\", content_type)\n"
     ]
    },
    {
     "ename": "APIRequestError",
     "evalue": "The Riot API returned an error on the request. The received error was 403: \"Forbidden\"",
     "output_type": "error",
     "traceback": [
      "\u001b[1;31m---------------------------------------------------------------------------\u001b[0m",
      "\u001b[1;31mAttributeError\u001b[0m                            Traceback (most recent call last)",
      "File \u001b[1;32mc:\\Users\\IKUN\\AppData\\Local\\Programs\\Python\\Python312\\Lib\\site-packages\\merakicommons\\ghost.py:41\u001b[0m, in \u001b[0;36mghost_load_on.<locals>.decorator.<locals>.wrapper\u001b[1;34m(*args, **kwargs)\u001b[0m\n\u001b[0;32m     40\u001b[0m \u001b[38;5;28;01mtry\u001b[39;00m:\n\u001b[1;32m---> 41\u001b[0m     \u001b[38;5;28;01mreturn\u001b[39;00m \u001b[43mmethod\u001b[49m\u001b[43m(\u001b[49m\u001b[38;5;241;43m*\u001b[39;49m\u001b[43margs\u001b[49m\u001b[43m,\u001b[49m\u001b[43m \u001b[49m\u001b[38;5;241;43m*\u001b[39;49m\u001b[38;5;241;43m*\u001b[39;49m\u001b[43mkwargs\u001b[49m\u001b[43m)\u001b[49m\n\u001b[0;32m     42\u001b[0m \u001b[38;5;28;01mexcept\u001b[39;00m errors \u001b[38;5;28;01mas\u001b[39;00m error:\n",
      "File \u001b[1;32mc:\\Users\\IKUN\\AppData\\Local\\Programs\\Python\\Python312\\Lib\\site-packages\\cassiopeia\\core\\account.py:154\u001b[0m, in \u001b[0;36mAccount.puuid\u001b[1;34m(self)\u001b[0m\n\u001b[0;32m    151\u001b[0m \u001b[38;5;129m@CassiopeiaGhost\u001b[39m\u001b[38;5;241m.\u001b[39mproperty(AccountData)\n\u001b[0;32m    152\u001b[0m \u001b[38;5;129m@ghost_load_on\u001b[39m\n\u001b[0;32m    153\u001b[0m \u001b[38;5;28;01mdef\u001b[39;00m \u001b[38;5;21mpuuid\u001b[39m(\u001b[38;5;28mself\u001b[39m) \u001b[38;5;241m-\u001b[39m\u001b[38;5;241m>\u001b[39m \u001b[38;5;28mstr\u001b[39m:\n\u001b[1;32m--> 154\u001b[0m     \u001b[38;5;28;01mreturn\u001b[39;00m \u001b[38;5;28;43mself\u001b[39;49m\u001b[38;5;241;43m.\u001b[39;49m\u001b[43m_data\u001b[49m\u001b[43m[\u001b[49m\u001b[43mAccountData\u001b[49m\u001b[43m]\u001b[49m\u001b[38;5;241;43m.\u001b[39;49m\u001b[43mpuuid\u001b[49m\n",
      "\u001b[1;31mAttributeError\u001b[0m: 'AccountData' object has no attribute 'puuid'",
      "\nDuring handling of the above exception, another exception occurred:\n",
      "\u001b[1;31mGhostLoadingRequiredError\u001b[0m                 Traceback (most recent call last)",
      "File \u001b[1;32mc:\\Users\\IKUN\\AppData\\Local\\Programs\\Python\\Python312\\Lib\\site-packages\\merakicommons\\ghost.py:87\u001b[0m, in \u001b[0;36mGhost.__property.__get__\u001b[1;34m(self, obj, obj_type)\u001b[0m\n\u001b[0;32m     86\u001b[0m \u001b[38;5;28;01mtry\u001b[39;00m:\n\u001b[1;32m---> 87\u001b[0m     \u001b[38;5;28;01mreturn\u001b[39;00m \u001b[38;5;28;43mself\u001b[39;49m\u001b[38;5;241;43m.\u001b[39;49m\u001b[43mfget\u001b[49m\u001b[43m(\u001b[49m\u001b[43mobj\u001b[49m\u001b[43m)\u001b[49m\n\u001b[0;32m     88\u001b[0m \u001b[38;5;28;01mexcept\u001b[39;00m GhostLoadingRequiredError:\n",
      "File \u001b[1;32mc:\\Users\\IKUN\\AppData\\Local\\Programs\\Python\\Python312\\Lib\\site-packages\\merakicommons\\ghost.py:43\u001b[0m, in \u001b[0;36mghost_load_on.<locals>.decorator.<locals>.wrapper\u001b[1;34m(*args, **kwargs)\u001b[0m\n\u001b[0;32m     42\u001b[0m \u001b[38;5;28;01mexcept\u001b[39;00m errors \u001b[38;5;28;01mas\u001b[39;00m error:\n\u001b[1;32m---> 43\u001b[0m     \u001b[38;5;28;01mraise\u001b[39;00m GhostLoadingRequiredError(\u001b[38;5;28mstr\u001b[39m(error))\n",
      "\u001b[1;31mGhostLoadingRequiredError\u001b[0m: 'AccountData' object has no attribute 'puuid'",
      "\nDuring handling of the above exception, another exception occurred:\n",
      "\u001b[1;31mHTTPError\u001b[0m                                 Traceback (most recent call last)",
      "File \u001b[1;32mc:\\Users\\IKUN\\AppData\\Local\\Programs\\Python\\Python312\\Lib\\site-packages\\cassiopeia\\datastores\\riotapi\\common.py:253\u001b[0m, in \u001b[0;36mRiotAPIService._get\u001b[1;34m(self, url, parameters, app_limiter, method_limiter, connection)\u001b[0m\n\u001b[0;32m    252\u001b[0m \u001b[38;5;28;01mtry\u001b[39;00m:\n\u001b[1;32m--> 253\u001b[0m     \u001b[38;5;28;01mreturn\u001b[39;00m \u001b[43mrequest\u001b[49m\u001b[43m(\u001b[49m\u001b[43m)\u001b[49m\n\u001b[0;32m    254\u001b[0m \u001b[38;5;28;01mexcept\u001b[39;00m HTTPError \u001b[38;5;28;01mas\u001b[39;00m error:\n\u001b[0;32m    255\u001b[0m     \u001b[38;5;66;03m# The error handlers didn't work, so raise an appropriate error.\u001b[39;00m\n",
      "File \u001b[1;32mc:\\Users\\IKUN\\AppData\\Local\\Programs\\Python\\Python312\\Lib\\site-packages\\cassiopeia\\datastores\\riotapi\\common.py:348\u001b[0m, in \u001b[0;36mRiotAPIRequest.__call__\u001b[1;34m(self)\u001b[0m\n\u001b[0;32m    347\u001b[0m \u001b[38;5;28;01mexcept\u001b[39;00m HTTPError \u001b[38;5;28;01mas\u001b[39;00m error:\n\u001b[1;32m--> 348\u001b[0m     \u001b[38;5;28;01mreturn\u001b[39;00m \u001b[38;5;28;43mself\u001b[39;49m\u001b[38;5;241;43m.\u001b[39;49m\u001b[43m_retry_request_by_handling_error\u001b[49m\u001b[43m(\u001b[49m\u001b[43merror\u001b[49m\u001b[43m)\u001b[49m\n",
      "File \u001b[1;32mc:\\Users\\IKUN\\AppData\\Local\\Programs\\Python\\Python312\\Lib\\site-packages\\cassiopeia\\datastores\\riotapi\\common.py:385\u001b[0m, in \u001b[0;36mRiotAPIRequest._retry_request_by_handling_error\u001b[1;34m(self, error, handlers)\u001b[0m\n\u001b[0;32m    384\u001b[0m \u001b[38;5;28;01mif\u001b[39;00m new_handler\u001b[38;5;241m.\u001b[39mstop:\n\u001b[1;32m--> 385\u001b[0m     \u001b[38;5;28;01mraise\u001b[39;00m error\n\u001b[0;32m    386\u001b[0m \u001b[38;5;28;01melse\u001b[39;00m:\n",
      "File \u001b[1;32mc:\\Users\\IKUN\\AppData\\Local\\Programs\\Python\\Python312\\Lib\\site-packages\\cassiopeia\\datastores\\riotapi\\common.py:334\u001b[0m, in \u001b[0;36mRiotAPIRequest.__call__\u001b[1;34m(self)\u001b[0m\n\u001b[0;32m    333\u001b[0m \u001b[38;5;28;01mtry\u001b[39;00m:\n\u001b[1;32m--> 334\u001b[0m     body, response_headers \u001b[38;5;241m=\u001b[39m \u001b[38;5;28;43mself\u001b[39;49m\u001b[38;5;241;43m.\u001b[39;49m\u001b[43mservice\u001b[49m\u001b[38;5;241;43m.\u001b[39;49m\u001b[43m_client\u001b[49m\u001b[38;5;241;43m.\u001b[39;49m\u001b[43mget\u001b[49m\u001b[43m(\u001b[49m\n\u001b[0;32m    335\u001b[0m \u001b[43m        \u001b[49m\u001b[43murl\u001b[49m\u001b[38;5;241;43m=\u001b[39;49m\u001b[38;5;28;43mself\u001b[39;49m\u001b[38;5;241;43m.\u001b[39;49m\u001b[43murl\u001b[49m\u001b[43m,\u001b[49m\n\u001b[0;32m    336\u001b[0m \u001b[43m        \u001b[49m\u001b[43mparameters\u001b[49m\u001b[38;5;241;43m=\u001b[39;49m\u001b[38;5;28;43mself\u001b[39;49m\u001b[38;5;241;43m.\u001b[39;49m\u001b[43mparameters\u001b[49m\u001b[43m,\u001b[49m\n\u001b[0;32m    337\u001b[0m \u001b[43m        \u001b[49m\u001b[43mheaders\u001b[49m\u001b[38;5;241;43m=\u001b[39;49m\u001b[38;5;28;43mself\u001b[39;49m\u001b[38;5;241;43m.\u001b[39;49m\u001b[43mservice\u001b[49m\u001b[38;5;241;43m.\u001b[39;49m\u001b[43m_headers\u001b[49m\u001b[43m,\u001b[49m\n\u001b[0;32m    338\u001b[0m \u001b[43m        \u001b[49m\u001b[43mrate_limiters\u001b[49m\u001b[38;5;241;43m=\u001b[39;49m\u001b[43m[\u001b[49m\u001b[38;5;28;43mself\u001b[39;49m\u001b[38;5;241;43m.\u001b[39;49m\u001b[43mapp_limiter\u001b[49m\u001b[43m,\u001b[49m\u001b[43m \u001b[49m\u001b[38;5;28;43mself\u001b[39;49m\u001b[38;5;241;43m.\u001b[39;49m\u001b[43mmethod_limiter\u001b[49m\u001b[43m]\u001b[49m\u001b[43m,\u001b[49m\n\u001b[0;32m    339\u001b[0m \u001b[43m        \u001b[49m\u001b[43mconnection\u001b[49m\u001b[38;5;241;43m=\u001b[39;49m\u001b[38;5;28;43mself\u001b[39;49m\u001b[38;5;241;43m.\u001b[39;49m\u001b[43mconnection\u001b[49m\u001b[43m,\u001b[49m\n\u001b[0;32m    340\u001b[0m \u001b[43m    \u001b[49m\u001b[43m)\u001b[49m\n\u001b[0;32m    341\u001b[0m     \u001b[38;5;28mself\u001b[39m\u001b[38;5;241m.\u001b[39mservice\u001b[38;5;241m.\u001b[39m_adjust_rate_limiters_from_headers(\n\u001b[0;32m    342\u001b[0m         app_limiter\u001b[38;5;241m=\u001b[39m\u001b[38;5;28mself\u001b[39m\u001b[38;5;241m.\u001b[39mapp_limiter,\n\u001b[0;32m    343\u001b[0m         method_limiter\u001b[38;5;241m=\u001b[39m\u001b[38;5;28mself\u001b[39m\u001b[38;5;241m.\u001b[39mmethod_limiter,\n\u001b[0;32m    344\u001b[0m         response_headers\u001b[38;5;241m=\u001b[39mresponse_headers,\n\u001b[0;32m    345\u001b[0m     )\n",
      "File \u001b[1;32mc:\\Users\\IKUN\\AppData\\Local\\Programs\\Python\\Python312\\Lib\\site-packages\\cassiopeia\\datastores\\common.py:248\u001b[0m, in \u001b[0;36mHTTPClient.get\u001b[1;34m(self, url, parameters, headers, rate_limiters, connection, encode_parameters)\u001b[0m\n\u001b[0;32m    247\u001b[0m \u001b[38;5;28;01mif\u001b[39;00m r\u001b[38;5;241m.\u001b[39mstatus_code \u001b[38;5;241m>\u001b[39m\u001b[38;5;241m=\u001b[39m \u001b[38;5;241m400\u001b[39m:\n\u001b[1;32m--> 248\u001b[0m     \u001b[38;5;28;01mraise\u001b[39;00m HTTPError(r\u001b[38;5;241m.\u001b[39mreason, r\u001b[38;5;241m.\u001b[39mstatus_code, response_headers)\n\u001b[0;32m    250\u001b[0m content_type \u001b[38;5;241m=\u001b[39m response_headers\u001b[38;5;241m.\u001b[39mget(\n\u001b[0;32m    251\u001b[0m     \u001b[38;5;124m\"\u001b[39m\u001b[38;5;124mContent-Type\u001b[39m\u001b[38;5;124m\"\u001b[39m, \u001b[38;5;124m\"\u001b[39m\u001b[38;5;124mapplication/octet-stream\u001b[39m\u001b[38;5;124m\"\u001b[39m\n\u001b[0;32m    252\u001b[0m )\u001b[38;5;241m.\u001b[39mupper()\n",
      "\u001b[1;31mHTTPError\u001b[0m: Forbidden",
      "\nThe above exception was the direct cause of the following exception:\n",
      "\u001b[1;31mAPIRequestError\u001b[0m                           Traceback (most recent call last)",
      "Cell \u001b[1;32mIn[6], line 3\u001b[0m\n\u001b[0;32m      1\u001b[0m account \u001b[38;5;241m=\u001b[39m cass\u001b[38;5;241m.\u001b[39mget_account(name\u001b[38;5;241m=\u001b[39mname, tagline\u001b[38;5;241m=\u001b[39mtagline, region\u001b[38;5;241m=\u001b[39mregion)\n\u001b[0;32m      2\u001b[0m \u001b[38;5;28mtype\u001b[39m(account)\n\u001b[1;32m----> 3\u001b[0m summoner \u001b[38;5;241m=\u001b[39m \u001b[43maccount\u001b[49m\u001b[38;5;241;43m.\u001b[39;49m\u001b[43msummoner\u001b[49m\n\u001b[0;32m      4\u001b[0m summoner\u001b[38;5;241m.\u001b[39mranks\n",
      "File \u001b[1;32mc:\\Users\\IKUN\\AppData\\Local\\Programs\\Python\\Python312\\Lib\\site-packages\\cassiopeia\\core\\account.py:176\u001b[0m, in \u001b[0;36mAccount.summoner\u001b[1;34m(self)\u001b[0m\n\u001b[0;32m    172\u001b[0m \u001b[38;5;129m@property\u001b[39m\n\u001b[0;32m    173\u001b[0m \u001b[38;5;28;01mdef\u001b[39;00m \u001b[38;5;21msummoner\u001b[39m(\u001b[38;5;28mself\u001b[39m) \u001b[38;5;241m-\u001b[39m\u001b[38;5;241m>\u001b[39m \u001b[38;5;124m\"\u001b[39m\u001b[38;5;124mSummoner\u001b[39m\u001b[38;5;124m\"\u001b[39m:\n\u001b[0;32m    174\u001b[0m     \u001b[38;5;28;01mfrom\u001b[39;00m \u001b[38;5;21;01m.\u001b[39;00m\u001b[38;5;21;01msummoner\u001b[39;00m \u001b[38;5;28;01mimport\u001b[39;00m Summoner\n\u001b[1;32m--> 176\u001b[0m     \u001b[38;5;28;01mreturn\u001b[39;00m Summoner(puuid\u001b[38;5;241m=\u001b[39m\u001b[38;5;28;43mself\u001b[39;49m\u001b[38;5;241;43m.\u001b[39;49m\u001b[43mpuuid\u001b[49m, region\u001b[38;5;241m=\u001b[39m\u001b[38;5;28mself\u001b[39m\u001b[38;5;241m.\u001b[39mregion)\n",
      "File \u001b[1;32mc:\\Users\\IKUN\\AppData\\Local\\Programs\\Python\\Python312\\Lib\\site-packages\\merakicommons\\ghost.py:90\u001b[0m, in \u001b[0;36mGhost.__property.__get__\u001b[1;34m(self, obj, obj_type)\u001b[0m\n\u001b[0;32m     88\u001b[0m \u001b[38;5;28;01mexcept\u001b[39;00m GhostLoadingRequiredError:\n\u001b[0;32m     89\u001b[0m     load_group \u001b[38;5;241m=\u001b[39m \u001b[38;5;28mself\u001b[39m\u001b[38;5;241m.\u001b[39mfget\u001b[38;5;241m.\u001b[39m_Ghost__load_group\n\u001b[1;32m---> 90\u001b[0m     \u001b[43mobj\u001b[49m\u001b[38;5;241;43m.\u001b[39;49m\u001b[43m__load__\u001b[49m\u001b[43m(\u001b[49m\u001b[43mload_group\u001b[49m\u001b[43m)\u001b[49m\n\u001b[0;32m     91\u001b[0m     obj\u001b[38;5;241m.\u001b[39m_Ghost__set_loaded(load_group)\n\u001b[0;32m     93\u001b[0m     \u001b[38;5;28;01mreturn\u001b[39;00m \u001b[38;5;28mself\u001b[39m\u001b[38;5;241m.\u001b[39mfget(obj)\n",
      "File \u001b[1;32mc:\\Users\\IKUN\\AppData\\Local\\Programs\\Python\\Python312\\Lib\\site-packages\\cassiopeia\\core\\common.py:272\u001b[0m, in \u001b[0;36mCassiopeiaGhost.__load__\u001b[1;34m(self, load_group, load_groups)\u001b[0m\n\u001b[0;32m    264\u001b[0m \u001b[38;5;28;01mif\u001b[39;00m (\n\u001b[0;32m    265\u001b[0m     \u001b[38;5;28mhasattr\u001b[39m(\u001b[38;5;28mself\u001b[39m\u001b[38;5;241m.\u001b[39m\u001b[38;5;18m__class__\u001b[39m, \u001b[38;5;124m\"\u001b[39m\u001b[38;5;124mversion\u001b[39m\u001b[38;5;124m\"\u001b[39m)\n\u001b[0;32m    266\u001b[0m     \u001b[38;5;129;01mand\u001b[39;00m \u001b[38;5;124m\"\u001b[39m\u001b[38;5;124mversion\u001b[39m\u001b[38;5;124m\"\u001b[39m \u001b[38;5;129;01mnot\u001b[39;00m \u001b[38;5;129;01min\u001b[39;00m query\n\u001b[0;32m    267\u001b[0m     \u001b[38;5;129;01mand\u001b[39;00m \u001b[38;5;28mself\u001b[39m\u001b[38;5;241m.\u001b[39m\u001b[38;5;18m__class__\u001b[39m\u001b[38;5;241m.\u001b[39m\u001b[38;5;18m__name__\u001b[39m \u001b[38;5;129;01mnot\u001b[39;00m \u001b[38;5;129;01min\u001b[39;00m [\u001b[38;5;124m\"\u001b[39m\u001b[38;5;124mRealms\u001b[39m\u001b[38;5;124m\"\u001b[39m, \u001b[38;5;124m\"\u001b[39m\u001b[38;5;124mMatch\u001b[39m\u001b[38;5;124m\"\u001b[39m]\n\u001b[0;32m    268\u001b[0m ):\n\u001b[0;32m    269\u001b[0m     query[\u001b[38;5;124m\"\u001b[39m\u001b[38;5;124mversion\u001b[39m\u001b[38;5;124m\"\u001b[39m] \u001b[38;5;241m=\u001b[39m get_latest_version(\n\u001b[0;32m    270\u001b[0m         region\u001b[38;5;241m=\u001b[39mquery[\u001b[38;5;124m\"\u001b[39m\u001b[38;5;124mregion\u001b[39m\u001b[38;5;124m\"\u001b[39m], endpoint\u001b[38;5;241m=\u001b[39m\u001b[38;5;28;01mNone\u001b[39;00m\n\u001b[0;32m    271\u001b[0m     )\n\u001b[1;32m--> 272\u001b[0m data \u001b[38;5;241m=\u001b[39m \u001b[43mconfiguration\u001b[49m\u001b[38;5;241;43m.\u001b[39;49m\u001b[43msettings\u001b[49m\u001b[38;5;241;43m.\u001b[39;49m\u001b[43mpipeline\u001b[49m\u001b[38;5;241;43m.\u001b[39;49m\u001b[43mget\u001b[49m\u001b[43m(\u001b[49m\n\u001b[0;32m    273\u001b[0m \u001b[43m    \u001b[49m\u001b[38;5;28;43mtype\u001b[39;49m\u001b[38;5;241;43m=\u001b[39;49m\u001b[38;5;28;43mself\u001b[39;49m\u001b[38;5;241;43m.\u001b[39;49m\u001b[43m_load_types\u001b[49m\u001b[43m[\u001b[49m\u001b[43mload_group\u001b[49m\u001b[43m]\u001b[49m\u001b[43m,\u001b[49m\u001b[43m \u001b[49m\u001b[43mquery\u001b[49m\u001b[38;5;241;43m=\u001b[39;49m\u001b[43mquery\u001b[49m\n\u001b[0;32m    274\u001b[0m \u001b[43m\u001b[49m\u001b[43m)\u001b[49m\n\u001b[0;32m    275\u001b[0m \u001b[38;5;28mself\u001b[39m\u001b[38;5;241m.\u001b[39m__load_hook__(load_group, data)\n",
      "File \u001b[1;32mc:\\Users\\IKUN\\AppData\\Local\\Programs\\Python\\Python312\\Lib\\site-packages\\datapipelines\\pipelines.py:459\u001b[0m, in \u001b[0;36mDataPipeline.get\u001b[1;34m(self, type, query)\u001b[0m\n\u001b[0;32m    457\u001b[0m \u001b[38;5;28;01mfor\u001b[39;00m handler \u001b[38;5;129;01min\u001b[39;00m handlers:\n\u001b[0;32m    458\u001b[0m     \u001b[38;5;28;01mtry\u001b[39;00m:\n\u001b[1;32m--> 459\u001b[0m         \u001b[38;5;28;01mreturn\u001b[39;00m \u001b[43mhandler\u001b[49m\u001b[38;5;241;43m.\u001b[39;49m\u001b[43mget\u001b[49m\u001b[43m(\u001b[49m\u001b[43mquery\u001b[49m\u001b[43m,\u001b[49m\u001b[43m \u001b[49m\u001b[43mcontext\u001b[49m\u001b[43m)\u001b[49m\n\u001b[0;32m    460\u001b[0m     \u001b[38;5;28;01mexcept\u001b[39;00m NotFoundError:\n\u001b[0;32m    461\u001b[0m         \u001b[38;5;28;01mpass\u001b[39;00m\n",
      "File \u001b[1;32mc:\\Users\\IKUN\\AppData\\Local\\Programs\\Python\\Python312\\Lib\\site-packages\\datapipelines\\pipelines.py:185\u001b[0m, in \u001b[0;36m_SourceHandler.get\u001b[1;34m(self, query, context)\u001b[0m\n\u001b[0;32m    170\u001b[0m \u001b[38;5;28;01mdef\u001b[39;00m \u001b[38;5;21mget\u001b[39m(\u001b[38;5;28mself\u001b[39m, query: Mapping[\u001b[38;5;28mstr\u001b[39m, Any], context: PipelineContext \u001b[38;5;241m=\u001b[39m \u001b[38;5;28;01mNone\u001b[39;00m) \u001b[38;5;241m-\u001b[39m\u001b[38;5;241m>\u001b[39m T:\n\u001b[0;32m    171\u001b[0m \u001b[38;5;250m    \u001b[39m\u001b[38;5;124;03m\"\"\"Gets a query from the data source.\u001b[39;00m\n\u001b[0;32m    172\u001b[0m \n\u001b[0;32m    173\u001b[0m \u001b[38;5;124;03m    1) Extracts the query from the data source.\u001b[39;00m\n\u001b[1;32m   (...)\u001b[0m\n\u001b[0;32m    183\u001b[0m \u001b[38;5;124;03m        The requested object.\u001b[39;00m\n\u001b[0;32m    184\u001b[0m \u001b[38;5;124;03m    \"\"\"\u001b[39;00m\n\u001b[1;32m--> 185\u001b[0m     result \u001b[38;5;241m=\u001b[39m \u001b[38;5;28;43mself\u001b[39;49m\u001b[38;5;241;43m.\u001b[39;49m\u001b[43m_source\u001b[49m\u001b[38;5;241;43m.\u001b[39;49m\u001b[43mget\u001b[49m\u001b[43m(\u001b[49m\u001b[38;5;28;43mself\u001b[39;49m\u001b[38;5;241;43m.\u001b[39;49m\u001b[43m_source_type\u001b[49m\u001b[43m,\u001b[49m\u001b[43m \u001b[49m\u001b[43mdeepcopy\u001b[49m\u001b[43m(\u001b[49m\u001b[43mquery\u001b[49m\u001b[43m)\u001b[49m\u001b[43m,\u001b[49m\u001b[43m \u001b[49m\u001b[43mcontext\u001b[49m\u001b[43m)\u001b[49m\n\u001b[0;32m    186\u001b[0m     LOGGER\u001b[38;5;241m.\u001b[39minfo(\u001b[38;5;124m\"\u001b[39m\u001b[38;5;124mGot result \u001b[39m\u001b[38;5;130;01m\\\"\u001b[39;00m\u001b[38;5;132;01m{result}\u001b[39;00m\u001b[38;5;130;01m\\\"\u001b[39;00m\u001b[38;5;124m from query \u001b[39m\u001b[38;5;130;01m\\\"\u001b[39;00m\u001b[38;5;132;01m{query}\u001b[39;00m\u001b[38;5;130;01m\\\"\u001b[39;00m\u001b[38;5;124m of source \u001b[39m\u001b[38;5;130;01m\\\"\u001b[39;00m\u001b[38;5;132;01m{source}\u001b[39;00m\u001b[38;5;130;01m\\\"\u001b[39;00m\u001b[38;5;124m\"\u001b[39m\u001b[38;5;241m.\u001b[39mformat(result\u001b[38;5;241m=\u001b[39mresult, query\u001b[38;5;241m=\u001b[39mquery, source\u001b[38;5;241m=\u001b[39m\u001b[38;5;28mself\u001b[39m\u001b[38;5;241m.\u001b[39m_source))\n\u001b[0;32m    188\u001b[0m     LOGGER\u001b[38;5;241m.\u001b[39minfo(\u001b[38;5;124m\"\u001b[39m\u001b[38;5;124mSending result \u001b[39m\u001b[38;5;130;01m\\\"\u001b[39;00m\u001b[38;5;132;01m{result}\u001b[39;00m\u001b[38;5;130;01m\\\"\u001b[39;00m\u001b[38;5;124m to sinks before converting\u001b[39m\u001b[38;5;124m\"\u001b[39m\u001b[38;5;241m.\u001b[39mformat(result\u001b[38;5;241m=\u001b[39mresult))\n",
      "File \u001b[1;32mc:\\Users\\IKUN\\AppData\\Local\\Programs\\Python\\Python312\\Lib\\site-packages\\datapipelines\\sources.py:120\u001b[0m, in \u001b[0;36mCompositeDataSource.get\u001b[1;34m(self, type, query, context)\u001b[0m\n\u001b[0;32m    118\u001b[0m \u001b[38;5;28;01mfor\u001b[39;00m source \u001b[38;5;129;01min\u001b[39;00m sources:\n\u001b[0;32m    119\u001b[0m     \u001b[38;5;28;01mtry\u001b[39;00m:\n\u001b[1;32m--> 120\u001b[0m         \u001b[38;5;28;01mreturn\u001b[39;00m \u001b[43msource\u001b[49m\u001b[38;5;241;43m.\u001b[39;49m\u001b[43mget\u001b[49m\u001b[43m(\u001b[49m\u001b[38;5;28;43mtype\u001b[39;49m\u001b[43m,\u001b[49m\u001b[43m \u001b[49m\u001b[43mdeepcopy\u001b[49m\u001b[43m(\u001b[49m\u001b[43mquery\u001b[49m\u001b[43m)\u001b[49m\u001b[43m,\u001b[49m\u001b[43m \u001b[49m\u001b[43mcontext\u001b[49m\u001b[43m)\u001b[49m\n\u001b[0;32m    121\u001b[0m     \u001b[38;5;28;01mexcept\u001b[39;00m NotFoundError:\n\u001b[0;32m    122\u001b[0m         \u001b[38;5;28;01mcontinue\u001b[39;00m\n",
      "File \u001b[1;32mc:\\Users\\IKUN\\AppData\\Local\\Programs\\Python\\Python312\\Lib\\site-packages\\datapipelines\\sources.py:69\u001b[0m, in \u001b[0;36mDataSource.dispatch.<locals>.wrapper\u001b[1;34m(self, type, query, context)\u001b[0m\n\u001b[0;32m     67\u001b[0m call \u001b[38;5;241m=\u001b[39m dispatcher\u001b[38;5;241m.\u001b[39mdispatch(\u001b[38;5;28mtype\u001b[39m)\n\u001b[0;32m     68\u001b[0m \u001b[38;5;28;01mtry\u001b[39;00m:\n\u001b[1;32m---> 69\u001b[0m     \u001b[38;5;28;01mreturn\u001b[39;00m \u001b[43mcall\u001b[49m\u001b[43m(\u001b[49m\u001b[38;5;28;43mself\u001b[39;49m\u001b[43m,\u001b[49m\u001b[43m \u001b[49m\u001b[43mquery\u001b[49m\u001b[43m,\u001b[49m\u001b[43m \u001b[49m\u001b[43mcontext\u001b[49m\u001b[38;5;241;43m=\u001b[39;49m\u001b[43mcontext\u001b[49m\u001b[43m)\u001b[49m\n\u001b[0;32m     70\u001b[0m \u001b[38;5;28;01mexcept\u001b[39;00m \u001b[38;5;167;01mTypeError\u001b[39;00m:\n\u001b[0;32m     71\u001b[0m     \u001b[38;5;28;01mraise\u001b[39;00m DataSource\u001b[38;5;241m.\u001b[39munsupported(\u001b[38;5;28mtype\u001b[39m)\n",
      "File \u001b[1;32mc:\\Users\\IKUN\\AppData\\Local\\Programs\\Python\\Python312\\Lib\\site-packages\\datapipelines\\queries.py:326\u001b[0m, in \u001b[0;36mvalidate_query.<locals>.wrapper.<locals>.wrapped\u001b[1;34m(self, query, context)\u001b[0m\n\u001b[0;32m    323\u001b[0m     transform(query)\n\u001b[0;32m    325\u001b[0m validator(query)\n\u001b[1;32m--> 326\u001b[0m \u001b[38;5;28;01mreturn\u001b[39;00m \u001b[43mmethod\u001b[49m\u001b[43m(\u001b[49m\u001b[38;5;28;43mself\u001b[39;49m\u001b[43m,\u001b[49m\u001b[43m \u001b[49m\u001b[43mquery\u001b[49m\u001b[43m,\u001b[49m\u001b[43m \u001b[49m\u001b[43mcontext\u001b[49m\u001b[43m)\u001b[49m\n",
      "File \u001b[1;32mc:\\Users\\IKUN\\AppData\\Local\\Programs\\Python\\Python312\\Lib\\site-packages\\cassiopeia\\datastores\\riotapi\\account.py:82\u001b[0m, in \u001b[0;36mAccountAPI.get_account\u001b[1;34m(self, query, context)\u001b[0m\n\u001b[0;32m     78\u001b[0m \u001b[38;5;28;01mtry\u001b[39;00m:\n\u001b[0;32m     79\u001b[0m     app_limiter, method_limiter \u001b[38;5;241m=\u001b[39m \u001b[38;5;28mself\u001b[39m\u001b[38;5;241m.\u001b[39m_get_rate_limiter(\n\u001b[0;32m     80\u001b[0m         query[\u001b[38;5;124m\"\u001b[39m\u001b[38;5;124mplatform\u001b[39m\u001b[38;5;124m\"\u001b[39m], endpoint\n\u001b[0;32m     81\u001b[0m     )\n\u001b[1;32m---> 82\u001b[0m     data \u001b[38;5;241m=\u001b[39m \u001b[38;5;28;43mself\u001b[39;49m\u001b[38;5;241;43m.\u001b[39;49m\u001b[43m_get\u001b[49m\u001b[43m(\u001b[49m\n\u001b[0;32m     83\u001b[0m \u001b[43m        \u001b[49m\u001b[43murl\u001b[49m\u001b[43m,\u001b[49m\u001b[43m \u001b[49m\u001b[43m{\u001b[49m\u001b[43m}\u001b[49m\u001b[43m,\u001b[49m\u001b[43m \u001b[49m\u001b[43mapp_limiter\u001b[49m\u001b[38;5;241;43m=\u001b[39;49m\u001b[43mapp_limiter\u001b[49m\u001b[43m,\u001b[49m\u001b[43m \u001b[49m\u001b[43mmethod_limiter\u001b[49m\u001b[38;5;241;43m=\u001b[39;49m\u001b[43mmethod_limiter\u001b[49m\n\u001b[0;32m     84\u001b[0m \u001b[43m    \u001b[49m\u001b[43m)\u001b[49m\n\u001b[0;32m     85\u001b[0m \u001b[38;5;28;01mexcept\u001b[39;00m APINotFoundError \u001b[38;5;28;01mas\u001b[39;00m error:\n\u001b[0;32m     86\u001b[0m     \u001b[38;5;28;01mraise\u001b[39;00m NotFoundError(\u001b[38;5;28mstr\u001b[39m(error)) \u001b[38;5;28;01mfrom\u001b[39;00m \u001b[38;5;21;01merror\u001b[39;00m\n",
      "File \u001b[1;32mc:\\Users\\IKUN\\AppData\\Local\\Programs\\Python\\Python312\\Lib\\site-packages\\cassiopeia\\datastores\\riotapi\\common.py:294\u001b[0m, in \u001b[0;36mRiotAPIService._get\u001b[1;34m(self, url, parameters, app_limiter, method_limiter, connection)\u001b[0m\n\u001b[0;32m    291\u001b[0m \u001b[38;5;28;01melse\u001b[39;00m:\n\u001b[0;32m    292\u001b[0m     new_error \u001b[38;5;241m=\u001b[39m new_error_type(\u001b[38;5;28mstr\u001b[39m(error))\n\u001b[1;32m--> 294\u001b[0m \u001b[38;5;28;01mraise\u001b[39;00m new_error \u001b[38;5;28;01mfrom\u001b[39;00m \u001b[38;5;21;01merror\u001b[39;00m\n",
      "\u001b[1;31mAPIRequestError\u001b[0m: The Riot API returned an error on the request. The received error was 403: \"Forbidden\""
     ]
    }
   ],
   "source": [
    "account = cass.get_account(name=name, tagline=tagline, region=region)\n",
    "type(account)\n",
    "summoner = account.summoner\n",
    "summoner.ranks"
   ]
  },
  {
   "cell_type": "code",
   "execution_count": 8,
   "id": "8f75d201",
   "metadata": {},
   "outputs": [
    {
     "name": "stdout",
     "output_type": "stream",
     "text": [
      "Making call: https://americas.api.riotgames.com/riot/account/v1/accounts/by-riot-id/拳头马斯了123/44444\n"
     ]
    },
    {
     "data": {
      "text/plain": [
       "'2IPkTfIvLAU3O9UZzwENXmJOXnyFESoDK6tf4OW9_-dvgqc9AyQflo3MqDQzccDxFN8-focd7JbuLQ'"
      ]
     },
     "execution_count": 8,
     "metadata": {},
     "output_type": "execute_result"
    }
   ],
   "source": [
    "account.puuid"
   ]
  },
  {
   "cell_type": "code",
   "execution_count": 33,
   "id": "fb7f07b1",
   "metadata": {},
   "outputs": [
    {
     "name": "stdout",
     "output_type": "stream",
     "text": [
      "Making call: https://americas.api.riotgames.com/lol/match/v5/matches/by-puuid/2IPkTfIvLAU3O9UZzwENXmJOXnyFESoDK6tf4OW9_-dvgqc9AyQflo3MqDQzccDxFN8-focd7JbuLQ/ids?start=0&count=100\n"
     ]
    },
    {
     "data": {
      "text/plain": [
       "True"
      ]
     },
     "execution_count": 33,
     "metadata": {},
     "output_type": "execute_result"
    }
   ],
   "source": [
    "match_history = account.summoner.match_history\n",
    "\n",
    "match = match_history[0]\n",
    "parti = match.participants\n",
    "p = parti[0]\n",
    "p_stage = p.cumulative_timeline[\"5:00\"]\n",
    "\n",
    "p.lane == cass.data.Lane.top_lane"
   ]
  },
  {
   "cell_type": "code",
   "execution_count": 10,
   "id": "06bfd02f",
   "metadata": {},
   "outputs": [
    {
     "data": {
      "text/plain": [
       "0.0"
      ]
     },
     "execution_count": 10,
     "metadata": {},
     "output_type": "execute_result"
    }
   ],
   "source": [
    "p_stage.kda"
   ]
  },
  {
   "cell_type": "code",
   "execution_count": 11,
   "id": "ba7f0fb4",
   "metadata": {},
   "outputs": [],
   "source": [
    "match = cass.get_match(id=5185453360, region=\"NA\")"
   ]
  },
  {
   "cell_type": "code",
   "execution_count": 17,
   "id": "51c3d4da",
   "metadata": {},
   "outputs": [
    {
     "ename": "AttributeError",
     "evalue": "'Timeline' object has no attribute 'events'",
     "output_type": "error",
     "traceback": [
      "\u001b[1;31m---------------------------------------------------------------------------\u001b[0m",
      "\u001b[1;31mAttributeError\u001b[0m                            Traceback (most recent call last)",
      "Cell \u001b[1;32mIn[17], line 2\u001b[0m\n\u001b[0;32m      1\u001b[0m p \u001b[38;5;241m=\u001b[39m match\u001b[38;5;241m.\u001b[39mparticipants[\u001b[38;5;241m0\u001b[39m]\n\u001b[1;32m----> 2\u001b[0m events \u001b[38;5;241m=\u001b[39m \u001b[43mmatch\u001b[49m\u001b[38;5;241;43m.\u001b[39;49m\u001b[43mtimeline\u001b[49m\u001b[38;5;241;43m.\u001b[39;49m\u001b[43mevents\u001b[49m\n\u001b[0;32m      3\u001b[0m p_state \u001b[38;5;241m=\u001b[39m p\u001b[38;5;241m.\u001b[39mcumulative_timeline[datetime\u001b[38;5;241m.\u001b[39mtimedelta(minutes\u001b[38;5;241m=\u001b[39m\u001b[38;5;241m19\u001b[39m, seconds\u001b[38;5;241m=\u001b[39m\u001b[38;5;241m00\u001b[39m)]\n\u001b[0;32m      4\u001b[0m \u001b[38;5;28mtype\u001b[39m(p_state)\n",
      "\u001b[1;31mAttributeError\u001b[0m: 'Timeline' object has no attribute 'events'"
     ]
    }
   ],
   "source": [
    "p = match.participants[0]\n",
    "\n",
    "\n",
    "\n",
    "p_state = p.cumulative_timeline[datetime.timedelta(minutes=19, seconds=00)]\n",
    "type(p_state)"
   ]
  },
  {
   "cell_type": "code",
   "execution_count": 18,
   "id": "0cbacfbd",
   "metadata": {},
   "outputs": [],
   "source": [
    "timeline = match.timeline\n",
    "\n",
    "# Collect all vision-related events\n",
    "vision_events = []\n",
    "for frame in timeline.frames:\n",
    "    vision_events.extend([event for event in frame.events if event.type in {\"WARD_PLACED\", \"WARD_KILL\"}])"
   ]
  },
  {
   "cell_type": "code",
   "execution_count": 20,
   "id": "b60b28c3",
   "metadata": {},
   "outputs": [
    {
     "ename": "AttributeError",
     "evalue": "'EventData' object has no attribute 'participantId'",
     "output_type": "error",
     "traceback": [
      "\u001b[1;31m---------------------------------------------------------------------------\u001b[0m",
      "\u001b[1;31mAttributeError\u001b[0m                            Traceback (most recent call last)",
      "Cell \u001b[1;32mIn[20], line 3\u001b[0m\n\u001b[0;32m      1\u001b[0m relevant_events \u001b[38;5;241m=\u001b[39m [\n\u001b[0;32m      2\u001b[0m                     event \u001b[38;5;28;01mfor\u001b[39;00m event \u001b[38;5;129;01min\u001b[39;00m vision_events\n\u001b[1;32m----> 3\u001b[0m                     \u001b[38;5;28;01mif\u001b[39;00m event\u001b[38;5;241m.\u001b[39mtimestamp \u001b[38;5;241m<\u001b[39m\u001b[38;5;241m=\u001b[39m datetime\u001b[38;5;241m.\u001b[39mtimedelta(minutes\u001b[38;5;241m=\u001b[39m\u001b[38;5;241m19\u001b[39m, seconds\u001b[38;5;241m=\u001b[39m\u001b[38;5;241m0\u001b[39m) \u001b[38;5;129;01mand\u001b[39;00m \u001b[43mevent\u001b[49m\u001b[38;5;241;43m.\u001b[39;49m\u001b[43mparticipant_id\u001b[49m \u001b[38;5;241m==\u001b[39m p\u001b[38;5;241m.\u001b[39mid\n\u001b[0;32m      4\u001b[0m                 ]\n\u001b[0;32m      6\u001b[0m \u001b[38;5;66;03m# Compute a simple vision score proxy\u001b[39;00m\n\u001b[0;32m      7\u001b[0m wards_placed \u001b[38;5;241m=\u001b[39m \u001b[38;5;28msum\u001b[39m(\u001b[38;5;241m1\u001b[39m \u001b[38;5;28;01mfor\u001b[39;00m event \u001b[38;5;129;01min\u001b[39;00m relevant_events \u001b[38;5;28;01mif\u001b[39;00m event\u001b[38;5;241m.\u001b[39mtype \u001b[38;5;241m==\u001b[39m \u001b[38;5;124m\"\u001b[39m\u001b[38;5;124mWARD_PLACED\u001b[39m\u001b[38;5;124m\"\u001b[39m)\n",
      "File \u001b[1;32mc:\\Users\\IKUN\\AppData\\Local\\Programs\\Python\\Python312\\Lib\\site-packages\\cassiopeia\\core\\match.py:699\u001b[0m, in \u001b[0;36mEvent.participant_id\u001b[1;34m(self)\u001b[0m\n\u001b[0;32m    697\u001b[0m \u001b[38;5;129m@property\u001b[39m\n\u001b[0;32m    698\u001b[0m \u001b[38;5;28;01mdef\u001b[39;00m \u001b[38;5;21mparticipant_id\u001b[39m(\u001b[38;5;28mself\u001b[39m) \u001b[38;5;241m-\u001b[39m\u001b[38;5;241m>\u001b[39m \u001b[38;5;28mint\u001b[39m:\n\u001b[1;32m--> 699\u001b[0m     \u001b[38;5;28;01mreturn\u001b[39;00m \u001b[38;5;28;43mself\u001b[39;49m\u001b[38;5;241;43m.\u001b[39;49m\u001b[43m_data\u001b[49m\u001b[43m[\u001b[49m\u001b[43mEventData\u001b[49m\u001b[43m]\u001b[49m\u001b[38;5;241;43m.\u001b[39;49m\u001b[43mparticipantId\u001b[49m\n",
      "\u001b[1;31mAttributeError\u001b[0m: 'EventData' object has no attribute 'participantId'"
     ]
    }
   ],
   "source": [
    "relevant_events = [\n",
    "                    event for event in vision_events\n",
    "                    if event.timestamp <= datetime.timedelta(minutes=19, seconds=0) and event.participant_id == p.id\n",
    "                ]\n",
    "\n",
    "# Compute a simple vision score proxy\n",
    "wards_placed = sum(1 for event in relevant_events if event.type == \"WARD_PLACED\")\n",
    "wards_killed = sum(1 for event in relevant_events if event.type == \"WARD_KILL\")\n",
    "on_time_vision_score = wards_placed * 1 + wards_killed * 1.5  # Adjust weights as necessary"
   ]
  }
 ],
 "metadata": {
  "kernelspec": {
   "display_name": "Python 3",
   "language": "python",
   "name": "python3"
  },
  "language_info": {
   "codemirror_mode": {
    "name": "ipython",
    "version": 3
   },
   "file_extension": ".py",
   "mimetype": "text/x-python",
   "name": "python",
   "nbconvert_exporter": "python",
   "pygments_lexer": "ipython3",
   "version": "3.12.5"
  }
 },
 "nbformat": 4,
 "nbformat_minor": 5
}
