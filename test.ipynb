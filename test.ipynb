{
 "cells": [
  {
   "cell_type": "code",
   "execution_count": 3,
   "id": "392dd555-7455-4d5f-aab1-8560b9be693a",
   "metadata": {},
   "outputs": [
    {
     "name": "stdout",
     "output_type": "stream",
     "text": [
      "Requirement already satisfied: cassiopeia in c:\\users\\ikun\\appdata\\local\\programs\\python\\python312\\lib\\site-packages (5.1.3)\n",
      "Requirement already satisfied: datapipelines>=1.0.7 in c:\\users\\ikun\\appdata\\local\\programs\\python\\python312\\lib\\site-packages (from cassiopeia) (1.0.7)\n",
      "Requirement already satisfied: merakicommons>=1.0.10 in c:\\users\\ikun\\appdata\\local\\programs\\python\\python312\\lib\\site-packages (from cassiopeia) (1.0.10)\n",
      "Requirement already satisfied: Pillow in c:\\users\\ikun\\appdata\\local\\programs\\python\\python312\\lib\\site-packages (from cassiopeia) (10.4.0)\n",
      "Requirement already satisfied: arrow in c:\\users\\ikun\\appdata\\local\\programs\\python\\python312\\lib\\site-packages (from cassiopeia) (1.3.0)\n",
      "Requirement already satisfied: requests in c:\\users\\ikun\\appdata\\local\\programs\\python\\python312\\lib\\site-packages (from cassiopeia) (2.32.3)\n",
      "Requirement already satisfied: networkx in c:\\users\\ikun\\appdata\\local\\programs\\python\\python312\\lib\\site-packages (from datapipelines>=1.0.7->cassiopeia) (3.3)\n",
      "Requirement already satisfied: python-dateutil>=2.7.0 in c:\\users\\ikun\\appdata\\local\\programs\\python\\python312\\lib\\site-packages (from arrow->cassiopeia) (2.9.0.post0)\n",
      "Requirement already satisfied: types-python-dateutil>=2.8.10 in c:\\users\\ikun\\appdata\\local\\programs\\python\\python312\\lib\\site-packages (from arrow->cassiopeia) (2.9.0.20240821)\n",
      "Requirement already satisfied: charset-normalizer<4,>=2 in c:\\users\\ikun\\appdata\\local\\programs\\python\\python312\\lib\\site-packages (from requests->cassiopeia) (3.3.2)\n",
      "Requirement already satisfied: idna<4,>=2.5 in c:\\users\\ikun\\appdata\\local\\programs\\python\\python312\\lib\\site-packages (from requests->cassiopeia) (3.8)\n",
      "Requirement already satisfied: urllib3<3,>=1.21.1 in c:\\users\\ikun\\appdata\\local\\programs\\python\\python312\\lib\\site-packages (from requests->cassiopeia) (2.2.2)\n",
      "Requirement already satisfied: certifi>=2017.4.17 in c:\\users\\ikun\\appdata\\local\\programs\\python\\python312\\lib\\site-packages (from requests->cassiopeia) (2024.7.4)\n",
      "Requirement already satisfied: six>=1.5 in c:\\users\\ikun\\appdata\\local\\programs\\python\\python312\\lib\\site-packages (from python-dateutil>=2.7.0->arrow->cassiopeia) (1.16.0)\n"
     ]
    }
   ],
   "source": [
    "!pip install cassiopeia"
   ]
  },
  {
   "cell_type": "code",
   "execution_count": 4,
   "id": "efb95a86-2733-4e58-913b-c0294a862b1e",
   "metadata": {},
   "outputs": [],
   "source": [
    "import datetime\n",
    "import cassiopeia as cass\n",
    "from cassiopeia import Account\n",
    "from cassiopeia import core"
   ]
  },
  {
   "cell_type": "code",
   "execution_count": 5,
   "id": "f268db5b-c2b8-41ce-ad1d-dedc2c3d6ce6",
   "metadata": {},
   "outputs": [],
   "source": [
    "cass.set_riot_api_key(\"RGAPI-41ee105b-d0e5-41bd-9ed6-366c5583110b\")\n",
    "REGION = \"NA\""
   ]
  },
  {
   "cell_type": "code",
   "execution_count": 6,
   "id": "52b6afea",
   "metadata": {},
   "outputs": [],
   "source": [
    "name = \"拳头马斯了123\"\n",
    "tagline=\"44444\"\n",
    "region=\"NA\""
   ]
  },
  {
   "cell_type": "code",
   "execution_count": 7,
   "id": "3afab568",
   "metadata": {},
   "outputs": [
    {
     "data": {
      "text/plain": [
       "cassiopeia.core.account.Account"
      ]
     },
     "execution_count": 7,
     "metadata": {},
     "output_type": "execute_result"
    }
   ],
   "source": [
    "account = cass.get_account(name=name, tagline=tagline, region=region)\n",
    "type(account)"
   ]
  },
  {
   "cell_type": "code",
   "execution_count": 8,
   "id": "8f75d201",
   "metadata": {},
   "outputs": [
    {
     "name": "stdout",
     "output_type": "stream",
     "text": [
      "Making call: https://americas.api.riotgames.com/riot/account/v1/accounts/by-riot-id/拳头马斯了123/44444\n"
     ]
    },
    {
     "data": {
      "text/plain": [
       "'2IPkTfIvLAU3O9UZzwENXmJOXnyFESoDK6tf4OW9_-dvgqc9AyQflo3MqDQzccDxFN8-focd7JbuLQ'"
      ]
     },
     "execution_count": 8,
     "metadata": {},
     "output_type": "execute_result"
    }
   ],
   "source": [
    "account.puuid"
   ]
  },
  {
   "cell_type": "code",
   "execution_count": null,
   "id": "fb7f07b1",
   "metadata": {},
   "outputs": [
    {
     "name": "stdout",
     "output_type": "stream",
     "text": [
      "Making call: https://americas.api.riotgames.com/lol/match/v5/matches/by-puuid/2IPkTfIvLAU3O9UZzwENXmJOXnyFESoDK6tf4OW9_-dvgqc9AyQflo3MqDQzccDxFN8-focd7JbuLQ/ids?start=0&count=100\n",
      "Making call: https://americas.api.riotgames.com/lol/match/v5/matches/NA1_5144940871\n",
      "Making call: https://americas.api.riotgames.com/lol/match/v5/matches/NA1_5144940871/timeline\n"
     ]
    },
    {
     "data": {
      "text/plain": [
       "cassiopeia.core.match.ParticipantState"
      ]
     },
     "execution_count": 9,
     "metadata": {},
     "output_type": "execute_result"
    }
   ],
   "source": [
    "match_history = account.summoner.match_history\n",
    "\n",
    "match = match_history[0]\n",
    "parti = match.participants\n",
    "p = parti[0]\n",
    "p_stage = p.cumulative_timeline[\"5:00\"]\n",
    "\n",
    "type(p_stage)"
   ]
  },
  {
   "cell_type": "code",
   "execution_count": 10,
   "id": "06bfd02f",
   "metadata": {},
   "outputs": [
    {
     "data": {
      "text/plain": [
       "0.0"
      ]
     },
     "execution_count": 10,
     "metadata": {},
     "output_type": "execute_result"
    }
   ],
   "source": [
    "p_stage.kda"
   ]
  },
  {
   "cell_type": "code",
   "execution_count": 11,
   "id": "ba7f0fb4",
   "metadata": {},
   "outputs": [],
   "source": [
    "match = cass.get_match(id=5185453360, region=\"NA\")"
   ]
  },
  {
   "cell_type": "code",
   "execution_count": 13,
   "id": "51c3d4da",
   "metadata": {},
   "outputs": [
    {
     "data": {
      "text/plain": [
       "cassiopeia.core.match.ParticipantState"
      ]
     },
     "execution_count": 13,
     "metadata": {},
     "output_type": "execute_result"
    }
   ],
   "source": [
    "p = match.participants[0]\n",
    "events = match.timeline.events\n",
    "p_state = p.cumulative_timeline[datetime.timedelta(minutes=19, seconds=00)]\n",
    "type(p_state)"
   ]
  },
  {
   "cell_type": "code",
   "execution_count": 15,
   "id": "0cbacfbd",
   "metadata": {},
   "outputs": [
    {
     "ename": "AttributeError",
     "evalue": "'ParticipantState' object has no attribute 'vision_score'",
     "output_type": "error",
     "traceback": [
      "\u001b[1;31m---------------------------------------------------------------------------\u001b[0m",
      "\u001b[1;31mAttributeError\u001b[0m                            Traceback (most recent call last)",
      "Cell \u001b[1;32mIn[15], line 1\u001b[0m\n\u001b[1;32m----> 1\u001b[0m \u001b[43mp_state\u001b[49m\u001b[38;5;241;43m.\u001b[39;49m\u001b[43mvision_score\u001b[49m\n",
      "\u001b[1;31mAttributeError\u001b[0m: 'ParticipantState' object has no attribute 'vision_score'"
     ]
    }
   ],
   "source": [
    "p_state.vision_score"
   ]
  }
 ],
 "metadata": {
  "kernelspec": {
   "display_name": "Python 3",
   "language": "python",
   "name": "python3"
  },
  "language_info": {
   "codemirror_mode": {
    "name": "ipython",
    "version": 3
   },
   "file_extension": ".py",
   "mimetype": "text/x-python",
   "name": "python",
   "nbconvert_exporter": "python",
   "pygments_lexer": "ipython3",
   "version": "3.12.5"
  }
 },
 "nbformat": 4,
 "nbformat_minor": 5
}
