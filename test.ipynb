{
 "cells": [
  {
   "cell_type": "code",
   "execution_count": 20,
   "id": "392dd555-7455-4d5f-aab1-8560b9be693a",
   "metadata": {},
   "outputs": [
    {
     "name": "stdout",
     "output_type": "stream",
     "text": [
      "Requirement already satisfied: cassiopeia in d:\\anaconda\\lib\\site-packages (5.1.3)\n",
      "Requirement already satisfied: datapipelines>=1.0.7 in d:\\anaconda\\lib\\site-packages (from cassiopeia) (1.0.7)\n",
      "Requirement already satisfied: merakicommons>=1.0.10 in d:\\anaconda\\lib\\site-packages (from cassiopeia) (1.0.10)\n",
      "Requirement already satisfied: Pillow in d:\\anaconda\\lib\\site-packages (from cassiopeia) (10.3.0)\n",
      "Requirement already satisfied: arrow in d:\\anaconda\\lib\\site-packages (from cassiopeia) (1.2.3)\n",
      "Requirement already satisfied: requests in d:\\anaconda\\lib\\site-packages (from cassiopeia) (2.32.2)\n",
      "Requirement already satisfied: networkx in d:\\anaconda\\lib\\site-packages (from datapipelines>=1.0.7->cassiopeia) (3.2.1)\n",
      "Requirement already satisfied: python-dateutil>=2.7.0 in d:\\anaconda\\lib\\site-packages (from arrow->cassiopeia) (2.9.0.post0)\n",
      "Requirement already satisfied: charset-normalizer<4,>=2 in d:\\anaconda\\lib\\site-packages (from requests->cassiopeia) (2.0.4)\n",
      "Requirement already satisfied: idna<4,>=2.5 in d:\\anaconda\\lib\\site-packages (from requests->cassiopeia) (3.7)\n",
      "Requirement already satisfied: urllib3<3,>=1.21.1 in d:\\anaconda\\lib\\site-packages (from requests->cassiopeia) (2.2.2)\n",
      "Requirement already satisfied: certifi>=2017.4.17 in d:\\anaconda\\lib\\site-packages (from requests->cassiopeia) (2024.7.4)\n",
      "Requirement already satisfied: six>=1.5 in d:\\anaconda\\lib\\site-packages (from python-dateutil>=2.7.0->arrow->cassiopeia) (1.16.0)\n"
     ]
    }
   ],
   "source": [
    "!pip install cassiopeia"
   ]
  },
  {
   "cell_type": "code",
   "execution_count": 2,
   "id": "efb95a86-2733-4e58-913b-c0294a862b1e",
   "metadata": {},
   "outputs": [],
   "source": [
    "import datetime\n",
    "import cassiopeia as cass\n",
    "from cassiopeia import Account\n",
    "from cassiopeia import core"
   ]
  },
  {
   "cell_type": "code",
   "execution_count": 3,
   "id": "f268db5b-c2b8-41ce-ad1d-dedc2c3d6ce6",
   "metadata": {},
   "outputs": [],
   "source": [
    "cass.set_riot_api_key(\"RGAPI-7a02381c-0e4f-4e5a-8c64-24dbc5914f80\")\n",
    "REGION = \"NA\""
   ]
  },
  {
   "cell_type": "code",
   "execution_count": 4,
   "id": "52b6afea",
   "metadata": {},
   "outputs": [],
   "source": [
    "name = \"拳头马斯了123\"\n",
    "tagline=\"44444\"\n",
    "region=\"NA\""
   ]
  },
  {
   "cell_type": "code",
   "execution_count": 14,
   "id": "3afab568",
   "metadata": {},
   "outputs": [
    {
     "data": {
      "text/plain": [
       "cassiopeia.core.account.Account"
      ]
     },
     "execution_count": 14,
     "metadata": {},
     "output_type": "execute_result"
    }
   ],
   "source": [
    "account = cass.get_account(name=name, tagline=tagline, region=region)\n",
    "type(account)"
   ]
  },
  {
   "cell_type": "code",
   "execution_count": 6,
   "id": "8f75d201",
   "metadata": {},
   "outputs": [
    {
     "name": "stdout",
     "output_type": "stream",
     "text": [
      "Making call: https://americas.api.riotgames.com/riot/account/v1/accounts/by-riot-id/拳头马斯了123/44444\n"
     ]
    },
    {
     "data": {
      "text/plain": [
       "'2IPkTfIvLAU3O9UZzwENXmJOXnyFESoDK6tf4OW9_-dvgqc9AyQflo3MqDQzccDxFN8-focd7JbuLQ'"
      ]
     },
     "execution_count": 6,
     "metadata": {},
     "output_type": "execute_result"
    }
   ],
   "source": [
    "account.puuid"
   ]
  },
  {
   "cell_type": "code",
   "execution_count": 24,
   "id": "fb7f07b1",
   "metadata": {},
   "outputs": [
    {
     "name": "stdout",
     "output_type": "stream",
     "text": [
      "Making call: https://americas.api.riotgames.com/lol/match/v5/matches/by-puuid/2IPkTfIvLAU3O9UZzwENXmJOXnyFESoDK6tf4OW9_-dvgqc9AyQflo3MqDQzccDxFN8-focd7JbuLQ/ids?start=0&count=100\n"
     ]
    },
    {
     "data": {
      "text/plain": [
       "928"
      ]
     },
     "execution_count": 24,
     "metadata": {},
     "output_type": "execute_result"
    }
   ],
   "source": [
    "match_history = account.summoner.match_history\n",
    "\n",
    "match = match_history[0]\n",
    "parti = match.participants\n",
    "p = parti[0]\n",
    "p.stats.time_played"
   ]
  },
  {
   "cell_type": "code",
   "execution_count": 12,
   "id": "06bfd02f",
   "metadata": {},
   "outputs": [
    {
     "name": "stdout",
     "output_type": "stream",
     "text": [
      "Making call: https://americas.api.riotgames.com/lol/match/v5/matches/NA1_5144940871\n",
      "Making call: https://na1.api.riotgames.com/lol/summoner/v4/summoners/by-puuid/2IPkTfIvLAU3O9UZzwENXmJOXnyFESoDK6tf4OW9_-dvgqc9AyQflo3MqDQzccDxFN8-focd7JbuLQ\n"
     ]
    }
   ],
   "source": [
    "p = match.participants[account.summoner]"
   ]
  },
  {
   "cell_type": "code",
   "execution_count": 13,
   "id": "ba7f0fb4",
   "metadata": {},
   "outputs": [
    {
     "ename": "NameError",
     "evalue": "name 'ParticipantStatsData' is not defined",
     "output_type": "error",
     "traceback": [
      "\u001b[1;31m---------------------------------------------------------------------------\u001b[0m",
      "\u001b[1;31mNameError\u001b[0m                                 Traceback (most recent call last)",
      "Cell \u001b[1;32mIn[13], line 1\u001b[0m\n\u001b[1;32m----> 1\u001b[0m \u001b[38;5;28;01mmatch\u001b[39;00m\u001b[38;5;241m.\u001b[39m_data[\u001b[43mParticipantStatsData\u001b[49m]\u001b[38;5;241m.\u001b[39mtimePlayed\n",
      "\u001b[1;31mNameError\u001b[0m: name 'ParticipantStatsData' is not defined"
     ]
    }
   ],
   "source": [
    "match._data[ParticipantStatsData].timePlayed"
   ]
  },
  {
   "cell_type": "code",
   "execution_count": null,
   "id": "51c3d4da",
   "metadata": {},
   "outputs": [],
   "source": []
  }
 ],
 "metadata": {
  "kernelspec": {
   "display_name": "Python 3",
   "language": "python",
   "name": "python3"
  },
  "language_info": {
   "codemirror_mode": {
    "name": "ipython",
    "version": 3
   },
   "file_extension": ".py",
   "mimetype": "text/x-python",
   "name": "python",
   "nbconvert_exporter": "python",
   "pygments_lexer": "ipython3",
   "version": "3.12.5"
  }
 },
 "nbformat": 4,
 "nbformat_minor": 5
}
