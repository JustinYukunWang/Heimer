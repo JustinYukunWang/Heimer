{
 "cells": [
  {
   "cell_type": "code",
   "execution_count": 1,
   "metadata": {},
   "outputs": [],
   "source": [
    "import cassiopeia as cass\n",
    "import os, sys\n",
    "sys.path.append(os.path.abspath(\"../fetch_functions\"))\n",
    "import general_history_fetch as g_fetch\n",
    "import primary_user_fetch as p_fetch\n",
    "from dotenv import load_dotenv"
   ]
  },
  {
   "cell_type": "code",
   "execution_count": 2,
   "metadata": {},
   "outputs": [],
   "source": [
    "from cassiopeia.data import Queue"
   ]
  },
  {
   "cell_type": "code",
   "execution_count": 3,
   "metadata": {},
   "outputs": [],
   "source": [
    "load_dotenv()\n",
    "KEY = os.getenv('API_KEY')\n",
    "\n",
    "cass.apply_settings({\n",
    "    \"caching\": {\n",
    "        \"enabled\": True,\n",
    "        \"cache_expiry\": 3600  # Cache data for 1 hour\n",
    "    }\n",
    "})"
   ]
  },
  {
   "cell_type": "code",
   "execution_count": 4,
   "metadata": {},
   "outputs": [],
   "source": [
    "cass.set_riot_api_key(KEY)\n",
    "REGION = \"NA\""
   ]
  },
  {
   "cell_type": "code",
   "execution_count": null,
   "metadata": {},
   "outputs": [],
   "source": [
    "diamondI = g_fetch.get_ranked_entries('na1', 'DIAMOND', 'I')\n",
    "diamondI_list = g_fetch.filter_player_id(diamondI)\n",
    "p_fetch.save_to_spreadsheet(diamondI_list, os.path.abspath(\"../data\"), \"diamondI_list.csv\")"
   ]
  },
  {
   "cell_type": "code",
   "execution_count": 5,
   "metadata": {},
   "outputs": [
    {
     "name": "stdout",
     "output_type": "stream",
     "text": [
      "Rate limit exceeded. Retrying after 84 seconds...\n",
      "Rate limit exceeded. Retrying after 86 seconds...\n",
      "Data saved to challengers_list.csv successfully!\n"
     ]
    }
   ],
   "source": [
    "# Get all the summoners in the Challenger league\n",
    "challengers = g_fetch.get_challenger_league()\n",
    "challengers_list = g_fetch.Higher_Rank_Id_filter(challengers)\n",
    "\n",
    "p_fetch.save_to_spreadsheet(challengers_list, os.path.abspath(\"../data\"), \"challengers_list.csv\")"
   ]
  },
  {
   "cell_type": "code",
   "execution_count": 6,
   "metadata": {},
   "outputs": [
    {
     "name": "stdout",
     "output_type": "stream",
     "text": [
      "Rate limit exceeded. Retrying after 86 seconds...\n",
      "Rate limit exceeded. Retrying after 86 seconds...\n",
      "Rate limit exceeded. Retrying after 87 seconds...\n",
      "Rate limit exceeded. Retrying after 87 seconds...\n",
      "Rate limit exceeded. Retrying after 87 seconds...\n",
      "Rate limit exceeded. Retrying after 87 seconds...\n",
      "Rate limit exceeded. Retrying after 87 seconds...\n",
      "Data saved to grandmasters_list.csv successfully!\n"
     ]
    }
   ],
   "source": [
    "grandmasters = g_fetch.get_grandmaster_league()\n",
    "grandmasters_list = g_fetch.Higher_Rank_Id_filter(grandmasters)\n",
    "\n",
    "p_fetch.save_to_spreadsheet(grandmasters_list, os.path.abspath(\"../data\"), \"grandmasters_list.csv\")"
   ]
  },
  {
   "cell_type": "code",
   "execution_count": null,
   "metadata": {},
   "outputs": [],
   "source": [
    "masters = g_fetch.get_master_league()\n",
    "masters_list = g_fetch.Higher_Rank_Id_filter(masters)\n",
    "\n",
    "p_fetch.save_to_spreadsheet(masters_list, os.path.abspath(\"../data\"), \"masters_list.csv\")"
   ]
  }
 ],
 "metadata": {
  "kernelspec": {
   "display_name": "myenv",
   "language": "python",
   "name": "python3"
  },
  "language_info": {
   "codemirror_mode": {
    "name": "ipython",
    "version": 3
   },
   "file_extension": ".py",
   "mimetype": "text/x-python",
   "name": "python",
   "nbconvert_exporter": "python",
   "pygments_lexer": "ipython3",
   "version": "3.13.1"
  }
 },
 "nbformat": 4,
 "nbformat_minor": 2
}
