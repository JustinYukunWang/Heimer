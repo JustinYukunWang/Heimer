{
 "cells": [
  {
   "cell_type": "code",
   "execution_count": 5,
   "id": "f64383f1",
   "metadata": {},
   "outputs": [],
   "source": [
    "import sys\n",
    "sys.path.append(r\"C:\\Users\\IKUN\\Desktop\\League Project\\fetch_functions\")"
   ]
  },
  {
   "cell_type": "code",
   "execution_count": 6,
   "id": "efb95a86-2733-4e58-913b-c0294a862b1e",
   "metadata": {},
   "outputs": [],
   "source": [
    "import datetime\n",
    "import cassiopeia as cass\n",
    "from cassiopeia import Account\n",
    "from cassiopeia import core\n",
    "import primary_user_fetch as fetch"
   ]
  },
  {
   "cell_type": "code",
   "execution_count": 4,
   "id": "f268db5b-c2b8-41ce-ad1d-dedc2c3d6ce6",
   "metadata": {},
   "outputs": [],
   "source": [
    "cass.set_riot_api_key(\"RGAPI-c88daaab-100d-4fa6-8a4b-d0ee048d0737\")\n",
    "REGION = \"NA\""
   ]
  },
  {
   "cell_type": "code",
   "execution_count": 5,
   "id": "52b6afea",
   "metadata": {},
   "outputs": [],
   "source": [
    "name = \"拳头马斯了123\"\n",
    "tagline=\"44444\"\n",
    "region=\"NA\""
   ]
  },
  {
   "cell_type": "code",
   "execution_count": 6,
   "id": "3afab568",
   "metadata": {},
   "outputs": [
    {
     "name": "stdout",
     "output_type": "stream",
     "text": [
      "Making call: https://americas.api.riotgames.com/riot/account/v1/accounts/by-riot-id/拳头马斯了123/44444\n",
      "Making call: https://na1.api.riotgames.com/lol/summoner/v4/summoners/by-puuid/2IPkTfIvLAU3O9UZzwENXmJOXnyFESoDK6tf4OW9_-dvgqc9AyQflo3MqDQzccDxFN8-focd7JbuLQ\n",
      "Making call: https://na1.api.riotgames.com/lol/league/v4/entries/by-summoner/EGnN61vzOz0hYTUjR0pIeiCGWBHEv2hBy7xiRjDAY6PgNpQ\n"
     ]
    },
    {
     "data": {
      "text/plain": [
       "<Tier.emerald: 'EMERALD'>"
      ]
     },
     "execution_count": 6,
     "metadata": {},
     "output_type": "execute_result"
    }
   ],
   "source": [
    "account = cass.get_account(name=name, tagline=tagline, region=region)\n",
    "type(account)\n",
    "summoner = account.summoner\n",
    "entries = summoner.league_entries\n",
    "type(entries)\n",
    "entries.fives.tier"
   ]
  },
  {
   "cell_type": "code",
   "execution_count": 7,
   "id": "8f75d201",
   "metadata": {},
   "outputs": [
    {
     "data": {
      "text/plain": [
       "'2IPkTfIvLAU3O9UZzwENXmJOXnyFESoDK6tf4OW9_-dvgqc9AyQflo3MqDQzccDxFN8-focd7JbuLQ'"
      ]
     },
     "execution_count": 7,
     "metadata": {},
     "output_type": "execute_result"
    }
   ],
   "source": [
    "account.puuid"
   ]
  },
  {
   "cell_type": "code",
   "execution_count": 8,
   "id": "fb7f07b1",
   "metadata": {},
   "outputs": [
    {
     "name": "stdout",
     "output_type": "stream",
     "text": [
      "Making call: https://americas.api.riotgames.com/lol/match/v5/matches/by-puuid/2IPkTfIvLAU3O9UZzwENXmJOXnyFESoDK6tf4OW9_-dvgqc9AyQflo3MqDQzccDxFN8-focd7JbuLQ/ids?start=0&count=100\n",
      "Making call: https://americas.api.riotgames.com/lol/match/v5/matches/NA1_5144940871\n",
      "Making call: https://americas.api.riotgames.com/lol/match/v5/matches/NA1_5144940871/timeline\n"
     ]
    },
    {
     "data": {
      "text/plain": [
       "<enum 'Lane'>"
      ]
     },
     "execution_count": 8,
     "metadata": {},
     "output_type": "execute_result"
    }
   ],
   "source": [
    "match_history = account.summoner.match_history\n",
    "\n",
    "match = match_history[0]\n",
    "parti = match.participants\n",
    "p = parti[0]\n",
    "p_stage = p.cumulative_timeline[\"5:00\"]\n",
    "\n",
    "p.lane == cass.data.Lane.top_lane\n",
    "type(p.lane)"
   ]
  },
  {
   "cell_type": "code",
   "execution_count": 9,
   "id": "06bfd02f",
   "metadata": {},
   "outputs": [
    {
     "name": "stdout",
     "output_type": "stream",
     "text": [
      "Making call: https://cdn.merakianalytics.com/riot/lol/resources/patches.json\n",
      "Making call: https://ddragon.leagueoflegends.com/api/versions.json\n",
      "Making call: https://ddragon.leagueoflegends.com/cdn/14.21.1/data/en_US/championFull.json\n",
      "Making call: https://ddragon.leagueoflegends.com/realms/na.json\n"
     ]
    },
    {
     "data": {
      "text/plain": [
       "'Rumble'"
      ]
     },
     "execution_count": 9,
     "metadata": {},
     "output_type": "execute_result"
    }
   ],
   "source": [
    "p.champion.name\n"
   ]
  },
  {
   "cell_type": "code",
   "execution_count": 11,
   "id": "ba7f0fb4",
   "metadata": {},
   "outputs": [],
   "source": [
    "match = cass.get_match(id=5185453360, region=\"NA\")"
   ]
  },
  {
   "cell_type": "code",
   "execution_count": 2,
   "id": "51c3d4da",
   "metadata": {},
   "outputs": [
    {
     "name": "stdout",
     "output_type": "stream",
     "text": [
      "Making call: https://americas.api.riotgames.com/riot/account/v1/accounts/by-riot-id/Black%20hole/King\n",
      "Making call: https://americas.api.riotgames.com/lol/match/v5/matches/by-puuid/yle1VDvRWf6_IW8I3agJD2y_O2Gb6mrqM9tYAhMPt9B7U4FnXOrZszrIt0Wnwc-E1DfTnHsJZeHRsQ/ids?start=0&count=100&queue=420\n",
      "Making call: https://americas.api.riotgames.com/lol/match/v5/matches/NA1_5190546001\n",
      "Making call: https://na1.api.riotgames.com/lol/summoner/v4/summoners/by-puuid/yle1VDvRWf6_IW8I3agJD2y_O2Gb6mrqM9tYAhMPt9B7U4FnXOrZszrIt0Wnwc-E1DfTnHsJZeHRsQ\n",
      "Making call: https://cdn.merakianalytics.com/riot/lol/resources/patches.json\n",
      "Making call: https://ddragon.leagueoflegends.com/api/versions.json\n",
      "Making call: https://ddragon.leagueoflegends.com/cdn/14.24.1/data/en_US/championFull.json\n",
      "Making call: https://ddragon.leagueoflegends.com/realms/na.json\n",
      "Making call: https://americas.api.riotgames.com/lol/match/v5/matches/NA1_5190546001/timeline\n",
      "Making call: https://americas.api.riotgames.com/lol/match/v5/matches/NA1_5156315540\n",
      "Making call: https://ddragon.leagueoflegends.com/cdn/14.22.1/data/en_US/championFull.json\n",
      "Making call: https://americas.api.riotgames.com/lol/match/v5/matches/NA1_5156296135\n",
      "Making call: https://americas.api.riotgames.com/lol/match/v5/matches/NA1_5155664692\n",
      "Making call: https://americas.api.riotgames.com/lol/match/v5/matches/NA1_5155664692/timeline\n",
      "Making call: https://americas.api.riotgames.com/lol/match/v5/matches/NA1_5151597498\n",
      "Making call: https://americas.api.riotgames.com/lol/match/v5/matches/NA1_5145042452\n",
      "Making call: https://ddragon.leagueoflegends.com/cdn/14.21.1/data/en_US/championFull.json\n",
      "Making call: https://americas.api.riotgames.com/lol/match/v5/matches/NA1_5145026138\n",
      "Making call: https://americas.api.riotgames.com/lol/match/v5/matches/NA1_5141177564\n",
      "Making call: https://americas.api.riotgames.com/lol/match/v5/matches/NA1_5141177564/timeline\n",
      "Making call: https://americas.api.riotgames.com/lol/match/v5/matches/NA1_5141160407\n",
      "Making call: https://americas.api.riotgames.com/lol/match/v5/matches/NA1_5141142707\n",
      "Making call: https://americas.api.riotgames.com/lol/match/v5/matches/NA1_5139847628\n",
      "Making call: https://americas.api.riotgames.com/lol/match/v5/matches/NA1_5139847628/timeline\n",
      "Making call: https://americas.api.riotgames.com/lol/match/v5/matches/NA1_5139836360\n",
      "Making call: https://americas.api.riotgames.com/lol/match/v5/matches/NA1_5139830106\n",
      "Making call: https://americas.api.riotgames.com/lol/match/v5/matches/NA1_5138664332\n",
      "Making call: https://ddragon.leagueoflegends.com/cdn/14.20.1/data/en_US/championFull.json\n",
      "Making call: https://americas.api.riotgames.com/lol/match/v5/matches/NA1_5137384558\n",
      "Making call: https://americas.api.riotgames.com/lol/match/v5/matches/NA1_5137360276\n",
      "Making call: https://americas.api.riotgames.com/lol/match/v5/matches/NA1_5137360276/timeline\n",
      "Making call: https://americas.api.riotgames.com/lol/match/v5/matches/NA1_5137278658\n",
      "Making call: https://americas.api.riotgames.com/lol/match/v5/matches/NA1_5136596775\n",
      "Making call: https://americas.api.riotgames.com/lol/match/v5/matches/NA1_5136521512\n",
      "Making call: https://americas.api.riotgames.com/lol/match/v5/matches/NA1_5135989797\n",
      "Making call: https://americas.api.riotgames.com/lol/match/v5/matches/NA1_5135923124\n",
      "Making call: https://americas.api.riotgames.com/lol/match/v5/matches/NA1_5135911743\n",
      "Making call: https://americas.api.riotgames.com/lol/match/v5/matches/NA1_5135889783\n",
      "Making call: https://americas.api.riotgames.com/lol/match/v5/matches/NA1_5132673995\n",
      "Making call: https://americas.api.riotgames.com/lol/match/v5/matches/NA1_5132656171\n",
      "Making call: https://americas.api.riotgames.com/lol/match/v5/matches/NA1_5132656171/timeline\n",
      "Making call: https://americas.api.riotgames.com/lol/match/v5/matches/NA1_5132633696\n",
      "Making call: https://americas.api.riotgames.com/lol/match/v5/matches/NA1_5132626218\n",
      "Making call: https://americas.api.riotgames.com/lol/match/v5/matches/NA1_5132608116\n",
      "Making call: https://americas.api.riotgames.com/lol/match/v5/matches/NA1_5132608116/timeline\n",
      "Making call: https://americas.api.riotgames.com/lol/match/v5/matches/NA1_5132223557\n",
      "Making call: https://americas.api.riotgames.com/lol/match/v5/matches/NA1_5125912561\n",
      "Making call: https://ddragon.leagueoflegends.com/cdn/14.19.1/data/en_US/championFull.json\n",
      "Making call: https://americas.api.riotgames.com/lol/match/v5/matches/NA1_5125899681\n",
      "Making call: https://americas.api.riotgames.com/lol/match/v5/matches/NA1_5119183046\n",
      "Making call: https://ddragon.leagueoflegends.com/cdn/14.18.1/data/en_US/championFull.json\n",
      "Making call: https://americas.api.riotgames.com/lol/match/v5/matches/NA1_5119161117\n",
      "Making call: https://americas.api.riotgames.com/lol/match/v5/matches/NA1_5118668244\n",
      "Making call: https://americas.api.riotgames.com/lol/match/v5/matches/NA1_5118625549\n",
      "Making call: https://americas.api.riotgames.com/lol/match/v5/matches/NA1_5118386517\n",
      "Making call: https://americas.api.riotgames.com/lol/match/v5/matches/NA1_5117806985\n",
      "Making call: https://americas.api.riotgames.com/lol/match/v5/matches/NA1_5110793812\n",
      "Making call: https://americas.api.riotgames.com/lol/match/v5/matches/NA1_5110768010\n",
      "Making call: https://americas.api.riotgames.com/lol/match/v5/matches/NA1_5110742252\n",
      "Making call: https://americas.api.riotgames.com/lol/match/v5/matches/NA1_5110714801\n",
      "Making call: https://americas.api.riotgames.com/lol/match/v5/matches/NA1_5110680668\n",
      "Making call: https://americas.api.riotgames.com/lol/match/v5/matches/NA1_5110637515\n",
      "Making call: https://americas.api.riotgames.com/lol/match/v5/matches/NA1_5105765945\n",
      "Making call: https://ddragon.leagueoflegends.com/cdn/14.17.1/data/en_US/championFull.json\n",
      "Making call: https://americas.api.riotgames.com/lol/match/v5/matches/NA1_5102477372\n",
      "Making call: https://americas.api.riotgames.com/lol/match/v5/matches/NA1_5102441809\n",
      "Making call: https://americas.api.riotgames.com/lol/match/v5/matches/NA1_5102441809/timeline\n",
      "Making call: https://americas.api.riotgames.com/lol/match/v5/matches/NA1_5102403001\n",
      "Making call: https://americas.api.riotgames.com/lol/match/v5/matches/NA1_5102215856\n",
      "Making call: https://americas.api.riotgames.com/lol/match/v5/matches/NA1_5102065361\n",
      "Making call: https://americas.api.riotgames.com/lol/match/v5/matches/NA1_5101454745\n",
      "Making call: https://americas.api.riotgames.com/lol/match/v5/matches/NA1_5101410421\n",
      "Making call: https://americas.api.riotgames.com/lol/match/v5/matches/NA1_5099910076\n",
      "Making call: https://americas.api.riotgames.com/lol/match/v5/matches/NA1_5097782901\n",
      "Making call: https://americas.api.riotgames.com/lol/match/v5/matches/NA1_5097782901/timeline\n",
      "Making call: https://americas.api.riotgames.com/lol/match/v5/matches/NA1_5097764869\n",
      "Making call: https://americas.api.riotgames.com/lol/match/v5/matches/NA1_5097664182\n",
      "Making call: https://americas.api.riotgames.com/lol/match/v5/matches/NA1_5097649719\n",
      "Making call: https://americas.api.riotgames.com/lol/match/v5/matches/NA1_5096701186\n",
      "Making call: https://americas.api.riotgames.com/lol/match/v5/matches/NA1_5096676039\n",
      "Making call: https://americas.api.riotgames.com/lol/match/v5/matches/NA1_5096653530\n",
      "Making call: https://americas.api.riotgames.com/lol/match/v5/matches/NA1_5096643784\n",
      "Making call: https://americas.api.riotgames.com/lol/match/v5/matches/NA1_5096009073\n",
      "Making call: https://ddragon.leagueoflegends.com/cdn/14.16.1/data/en_US/championFull.json\n",
      "Making call: https://americas.api.riotgames.com/lol/match/v5/matches/NA1_5095988546\n",
      "Making call: https://americas.api.riotgames.com/lol/match/v5/matches/NA1_5095988546/timeline\n",
      "Making call: https://americas.api.riotgames.com/lol/match/v5/matches/NA1_5095980823\n",
      "Making call: https://americas.api.riotgames.com/lol/match/v5/matches/NA1_5095961511\n",
      "Making call: https://americas.api.riotgames.com/lol/match/v5/matches/NA1_5095463838\n",
      "Making call: https://americas.api.riotgames.com/lol/match/v5/matches/NA1_5095345209\n",
      "Making call: https://americas.api.riotgames.com/lol/match/v5/matches/NA1_5095324726\n",
      "Making call: https://americas.api.riotgames.com/lol/match/v5/matches/NA1_5095301284\n",
      "Making call: https://americas.api.riotgames.com/lol/match/v5/matches/NA1_5095286650\n",
      "Making call: https://americas.api.riotgames.com/lol/match/v5/matches/NA1_5094907243\n",
      "Making call: https://americas.api.riotgames.com/lol/match/v5/matches/NA1_5094875775\n",
      "Making call: https://americas.api.riotgames.com/lol/match/v5/matches/NA1_5094835873\n",
      "Making call: https://americas.api.riotgames.com/lol/match/v5/matches/NA1_5094801327\n",
      "Making call: https://americas.api.riotgames.com/lol/match/v5/matches/NA1_5094737553\n",
      "Making call: https://americas.api.riotgames.com/lol/match/v5/matches/NA1_5094712720\n",
      "Making call: https://americas.api.riotgames.com/lol/match/v5/matches/NA1_4983113852\n",
      "Making call: https://americas.api.riotgames.com/lol/match/v5/matches/NA1_4983083474\n",
      "Making call: https://americas.api.riotgames.com/lol/match/v5/matches/NA1_4983060575\n",
      "Making call: https://ddragon.leagueoflegends.com/cdn/14.8.1/data/en_US/championFull.json\n",
      "Making call: https://americas.api.riotgames.com/lol/match/v5/matches/NA1_4976888202\n",
      "Making call: https://americas.api.riotgames.com/lol/match/v5/matches/NA1_4976888202/timeline\n",
      "Making call: https://americas.api.riotgames.com/lol/match/v5/matches/NA1_4976870498\n",
      "Making call: https://americas.api.riotgames.com/lol/match/v5/matches/NA1_4976870498/timeline\n",
      "Making call: https://americas.api.riotgames.com/lol/match/v5/matches/NA1_4975645075\n",
      "Making call: https://ddragon.leagueoflegends.com/cdn/14.7.1/data/en_US/championFull.json\n",
      "Making call: https://americas.api.riotgames.com/lol/match/v5/matches/NA1_4975645075/timeline\n",
      "Making call: https://americas.api.riotgames.com/lol/match/v5/matches/NA1_4960953425\n",
      "INFO: Unexpected service rate limit, backing off for 12 seconds (from headers).\n",
      "Making call: https://americas.api.riotgames.com/lol/match/v5/matches/NA1_4960953425\n",
      "Making call: https://ddragon.leagueoflegends.com/cdn/14.6.1/data/en_US/championFull.json\n",
      "Making call: https://americas.api.riotgames.com/lol/match/v5/matches/NA1_4960953425/timeline\n",
      "ValueError at timestamp 25 for match 4960953425: list.remove(x): x not in list\n",
      "Making call: https://americas.api.riotgames.com/lol/match/v5/matches/NA1_4960126463\n",
      "Making call: https://americas.api.riotgames.com/lol/match/v5/matches/NA1_4960126463/timeline\n",
      "Making call: https://americas.api.riotgames.com/lol/match/v5/matches/NA1_4960109283\n",
      "Making call: https://americas.api.riotgames.com/lol/match/v5/matches/NA1_4958194107\n",
      "Making call: https://americas.api.riotgames.com/lol/match/v5/matches/NA1_4958169197\n",
      "Making call: https://americas.api.riotgames.com/lol/match/v5/matches/NA1_4958152298\n",
      "Making call: https://americas.api.riotgames.com/lol/match/v5/matches/NA1_4958152298/timeline\n",
      "Making call: https://americas.api.riotgames.com/lol/match/v5/matches/NA1_4955534485\n",
      "Making call: https://americas.api.riotgames.com/lol/match/v5/matches/NA1_4948485507\n",
      "Making call: https://ddragon.leagueoflegends.com/cdn/14.5.1/data/en_US/championFull.json\n",
      "Making call: https://americas.api.riotgames.com/lol/match/v5/matches/NA1_4948485507/timeline\n",
      "Making call: https://americas.api.riotgames.com/lol/match/v5/matches/NA1_4934921808\n",
      "Making call: https://ddragon.leagueoflegends.com/cdn/14.4.1/data/en_US/championFull.json\n",
      "Making call: https://americas.api.riotgames.com/lol/match/v5/matches/NA1_4929853517\n",
      "Making call: https://americas.api.riotgames.com/lol/match/v5/matches/NA1_4929819100\n",
      "Making call: https://americas.api.riotgames.com/lol/match/v5/matches/NA1_4929819100/timeline\n",
      "ValueError at timestamp 5 for match 4929819100: list.remove(x): x not in list\n",
      "ValueError at timestamp 10 for match 4929819100: list.remove(x): x not in list\n",
      "ValueError at timestamp 15 for match 4929819100: list.remove(x): x not in list\n",
      "ValueError at timestamp 20 for match 4929819100: list.remove(x): x not in list\n",
      "ValueError at timestamp 25 for match 4929819100: list.remove(x): x not in list\n",
      "Making call: https://americas.api.riotgames.com/lol/match/v5/matches/NA1_4929772672\n",
      "Making call: https://americas.api.riotgames.com/lol/match/v5/matches/NA1_4929551397\n",
      "Making call: https://americas.api.riotgames.com/lol/match/v5/matches/NA1_4928000861\n",
      "Making call: https://ddragon.leagueoflegends.com/cdn/14.3.1/data/en_US/championFull.json\n",
      "Making call: https://americas.api.riotgames.com/lol/match/v5/matches/NA1_4926953748\n",
      "Making call: https://americas.api.riotgames.com/lol/match/v5/matches/NA1_4921569077\n",
      "Making call: https://americas.api.riotgames.com/lol/match/v5/matches/NA1_4921528420\n",
      "Making call: https://americas.api.riotgames.com/lol/match/v5/matches/NA1_4917587940\n",
      "Making call: https://americas.api.riotgames.com/lol/match/v5/matches/NA1_4917370210\n",
      "Making call: https://americas.api.riotgames.com/lol/match/v5/matches/by-puuid/yle1VDvRWf6_IW8I3agJD2y_O2Gb6mrqM9tYAhMPt9B7U4FnXOrZszrIt0Wnwc-E1DfTnHsJZeHRsQ/ids?start=100&count=100&queue=420\n",
      "Making call: https://americas.api.riotgames.com/lol/match/v5/matches/NA1_4917336169\n",
      "Making call: https://americas.api.riotgames.com/lol/match/v5/matches/NA1_4917336169/timeline\n",
      "Making call: https://americas.api.riotgames.com/lol/match/v5/matches/NA1_4911641881\n",
      "Making call: https://ddragon.leagueoflegends.com/cdn/14.2.1/data/en_US/championFull.json\n",
      "Making call: https://americas.api.riotgames.com/lol/match/v5/matches/NA1_4911611421\n",
      "Making call: https://americas.api.riotgames.com/lol/match/v5/matches/NA1_4911611421/timeline\n",
      "Making call: https://americas.api.riotgames.com/lol/match/v5/matches/NA1_4911575980\n",
      "Making call: https://americas.api.riotgames.com/lol/match/v5/matches/NA1_4909650495\n",
      "Making call: https://americas.api.riotgames.com/lol/match/v5/matches/NA1_4908884780\n",
      "Making call: https://americas.api.riotgames.com/lol/match/v5/matches/NA1_4908832902\n",
      "Making call: https://americas.api.riotgames.com/lol/match/v5/matches/NA1_4908036437\n",
      "Making call: https://americas.api.riotgames.com/lol/match/v5/matches/NA1_4908036437/timeline\n",
      "Making call: https://americas.api.riotgames.com/lol/match/v5/matches/NA1_4907904242\n",
      "Making call: https://americas.api.riotgames.com/lol/match/v5/matches/NA1_4904103660\n",
      "Making call: https://americas.api.riotgames.com/lol/match/v5/matches/NA1_4904103660/timeline\n",
      "Making call: https://americas.api.riotgames.com/lol/match/v5/matches/NA1_4904084927\n",
      "Making call: https://americas.api.riotgames.com/lol/match/v5/matches/NA1_4902358913\n",
      "Making call: https://americas.api.riotgames.com/lol/match/v5/matches/NA1_4902335280\n",
      "Making call: https://americas.api.riotgames.com/lol/match/v5/matches/NA1_4902308580\n",
      "Making call: https://americas.api.riotgames.com/lol/match/v5/matches/NA1_4901760968\n",
      "Making call: https://ddragon.leagueoflegends.com/cdn/14.1.1/data/en_US/championFull.json\n",
      "Making call: https://americas.api.riotgames.com/lol/match/v5/matches/NA1_4901728026\n",
      "Making call: https://americas.api.riotgames.com/lol/match/v5/matches/NA1_4901687602\n",
      "Making call: https://americas.api.riotgames.com/lol/match/v5/matches/NA1_4901525469\n",
      "Making call: https://americas.api.riotgames.com/lol/match/v5/matches/NA1_4901508288\n",
      "Making call: https://americas.api.riotgames.com/lol/match/v5/matches/NA1_4901508288/timeline\n",
      "Making call: https://americas.api.riotgames.com/lol/match/v5/matches/NA1_4894658615\n",
      "Making call: https://americas.api.riotgames.com/lol/match/v5/matches/NA1_4894658615/timeline\n",
      "Making call: https://americas.api.riotgames.com/lol/match/v5/matches/NA1_4893338644\n",
      "Making call: https://americas.api.riotgames.com/lol/match/v5/matches/NA1_4893303457\n",
      "Making call: https://americas.api.riotgames.com/lol/match/v5/matches/NA1_4893263369\n",
      "Making call: https://americas.api.riotgames.com/lol/match/v5/matches/NA1_4893168007\n",
      "Making call: https://americas.api.riotgames.com/lol/match/v5/matches/NA1_4893031795\n",
      "Making call: https://americas.api.riotgames.com/lol/match/v5/matches/NA1_4892367952\n",
      "Making call: https://americas.api.riotgames.com/lol/match/v5/matches/NA1_4892228628\n",
      "Making call: https://americas.api.riotgames.com/lol/match/v5/matches/NA1_4892191149\n",
      "Making call: https://americas.api.riotgames.com/lol/match/v5/matches/NA1_4892191149/timeline\n",
      "ValueError at timestamp 20 for match 4892191149: list.remove(x): x not in list\n",
      "Making call: https://americas.api.riotgames.com/lol/match/v5/matches/NA1_4892153296\n",
      "Making call: https://americas.api.riotgames.com/lol/match/v5/matches/NA1_4892153296/timeline\n",
      "Making call: https://americas.api.riotgames.com/lol/match/v5/matches/NA1_4892114136\n",
      "Making call: https://americas.api.riotgames.com/lol/match/v5/matches/NA1_4892114136/timeline\n",
      "Making call: https://americas.api.riotgames.com/lol/match/v5/matches/NA1_4892076956\n",
      "Making call: https://americas.api.riotgames.com/lol/match/v5/matches/NA1_4891984074\n",
      "Making call: https://americas.api.riotgames.com/lol/match/v5/matches/NA1_4891956223\n",
      "Making call: https://americas.api.riotgames.com/lol/match/v5/matches/NA1_4891956223/timeline\n",
      "ValueError at timestamp 5 for match 4891956223: list.remove(x): x not in list\n",
      "ValueError at timestamp 10 for match 4891956223: list.remove(x): x not in list\n",
      "Making call: https://americas.api.riotgames.com/lol/match/v5/matches/NA1_4891923985\n",
      "Making call: https://americas.api.riotgames.com/lol/match/v5/matches/NA1_4891879615\n",
      "Making call: https://americas.api.riotgames.com/lol/match/v5/matches/NA1_4891854058\n",
      "Making call: https://americas.api.riotgames.com/lol/match/v5/matches/NA1_4891833626\n",
      "Making call: https://americas.api.riotgames.com/lol/match/v5/matches/NA1_4891833626/timeline\n",
      "Making call: https://americas.api.riotgames.com/lol/match/v5/matches/NA1_4874040564\n",
      "Making call: https://ddragon.leagueoflegends.com/cdn/13.24.1/data/en_US/championFull.json\n",
      "Making call: https://americas.api.riotgames.com/lol/match/v5/matches/NA1_4874040564/timeline\n",
      "Making call: https://americas.api.riotgames.com/lol/match/v5/matches/NA1_4870219255\n",
      "Making call: https://americas.api.riotgames.com/lol/match/v5/matches/NA1_4870219255/timeline\n",
      "ValueError at timestamp 30 for match 4870219255: list.remove(x): x not in list\n",
      "Making call: https://americas.api.riotgames.com/lol/match/v5/matches/NA1_4870193973\n",
      "Making call: https://americas.api.riotgames.com/lol/match/v5/matches/NA1_4870193973/timeline\n",
      "ValueError at timestamp 15 for match 4870193973: list.remove(x): x not in list\n",
      "ValueError at timestamp 20 for match 4870193973: list.remove(x): x not in list\n",
      "ValueError at timestamp 25 for match 4870193973: list.remove(x): x not in list\n",
      "ValueError at timestamp 30 for match 4870193973: list.remove(x): x not in list\n",
      "Making call: https://americas.api.riotgames.com/lol/match/v5/matches/NA1_4870172396\n",
      "Making call: https://americas.api.riotgames.com/lol/match/v5/matches/NA1_4862035462\n",
      "Making call: https://americas.api.riotgames.com/lol/match/v5/matches/NA1_4862035462/timeline\n",
      "Making call: https://americas.api.riotgames.com/lol/match/v5/matches/NA1_4862011182\n",
      "Making call: https://americas.api.riotgames.com/lol/match/v5/matches/NA1_4861931156\n",
      "Making call: https://americas.api.riotgames.com/lol/match/v5/matches/NA1_4861067005\n",
      "Making call: https://americas.api.riotgames.com/lol/match/v5/matches/NA1_4861067005/timeline\n",
      "ValueError at timestamp 25 for match 4861067005: list.remove(x): x not in list\n",
      "ValueError at timestamp 30 for match 4861067005: list.remove(x): x not in list\n",
      "Making call: https://americas.api.riotgames.com/lol/match/v5/matches/NA1_4860854385\n",
      "Making call: https://americas.api.riotgames.com/lol/match/v5/matches/NA1_4860846112\n",
      "Making call: https://americas.api.riotgames.com/lol/match/v5/matches/NA1_4860835914\n",
      "Making call: https://americas.api.riotgames.com/lol/match/v5/matches/NA1_4860810152\n",
      "Making call: https://americas.api.riotgames.com/lol/match/v5/matches/NA1_4860810152/timeline\n",
      "Making call: https://americas.api.riotgames.com/lol/match/v5/matches/NA1_4856936794\n",
      "Making call: https://americas.api.riotgames.com/lol/match/v5/matches/NA1_4855949960\n",
      "Making call: https://americas.api.riotgames.com/lol/match/v5/matches/NA1_4855901352\n",
      "Making call: https://americas.api.riotgames.com/lol/match/v5/matches/NA1_4855901352/timeline\n",
      "Making call: https://americas.api.riotgames.com/lol/match/v5/matches/NA1_4851379795\n",
      "Making call: https://americas.api.riotgames.com/lol/match/v5/matches/NA1_4851350669\n",
      "Making call: https://americas.api.riotgames.com/lol/match/v5/matches/NA1_4851333094\n",
      "Making call: https://americas.api.riotgames.com/lol/match/v5/matches/NA1_4848709481\n",
      "Making call: https://ddragon.leagueoflegends.com/cdn/13.23.1/data/en_US/championFull.json\n",
      "Making call: https://americas.api.riotgames.com/lol/match/v5/matches/NA1_4848672389\n",
      "Making call: https://americas.api.riotgames.com/lol/match/v5/matches/NA1_4848642762\n",
      "Making call: https://americas.api.riotgames.com/lol/match/v5/matches/NA1_4848608680\n",
      "Making call: https://americas.api.riotgames.com/lol/match/v5/matches/NA1_4848608680/timeline\n",
      "Making call: https://americas.api.riotgames.com/lol/match/v5/matches/NA1_4848584382\n",
      "Making call: https://americas.api.riotgames.com/lol/match/v5/matches/NA1_4848584382/timeline\n",
      "Making call: https://americas.api.riotgames.com/lol/match/v5/matches/NA1_4847790286\n",
      "Finished processing 161 matches. Some timestamps may have fewer than 40 entries.\n",
      "Data saved to ryan's_K'Sante_data.csv successfully!\n"
     ]
    }
   ],
   "source": [
    "data = fetch.fetch_player_data_with_name_filter_champ(\"Black hole\", \"King\", \"NA\", 40, \"K'Sante\")\n",
    "\n",
    "fetch.save_to_spreadsheet(data, r\"C:\\Users\\IKUN\\Desktop\\League Project\\data\", \"ryan's_K'Sante_data.csv\")"
   ]
  },
  {
   "cell_type": "code",
   "execution_count": 7,
   "id": "0cbacfbd",
   "metadata": {},
   "outputs": [
    {
     "ename": "AttributeError",
     "evalue": "module 'primary_user_fetch' has no attribute 'player_endGame_data_with_name_filter_champ'",
     "output_type": "error",
     "traceback": [
      "\u001b[1;31m---------------------------------------------------------------------------\u001b[0m",
      "\u001b[1;31mAttributeError\u001b[0m                            Traceback (most recent call last)",
      "Cell \u001b[1;32mIn[7], line 1\u001b[0m\n\u001b[1;32m----> 1\u001b[0m data \u001b[38;5;241m=\u001b[39m \u001b[43mfetch\u001b[49m\u001b[38;5;241;43m.\u001b[39;49m\u001b[43mplayer_endGame_data_with_name_filter_champ\u001b[49m(\u001b[38;5;124m\"\u001b[39m\u001b[38;5;124mBlack hole\u001b[39m\u001b[38;5;124m\"\u001b[39m, \u001b[38;5;124m\"\u001b[39m\u001b[38;5;124mKing\u001b[39m\u001b[38;5;124m\"\u001b[39m, \u001b[38;5;124m\"\u001b[39m\u001b[38;5;124mNA\u001b[39m\u001b[38;5;124m\"\u001b[39m, \u001b[38;5;241m60\u001b[39m, \u001b[38;5;124m\"\u001b[39m\u001b[38;5;124mK\u001b[39m\u001b[38;5;124m'\u001b[39m\u001b[38;5;124mSante\u001b[39m\u001b[38;5;124m\"\u001b[39m)\n\u001b[0;32m      2\u001b[0m fetch\u001b[38;5;241m.\u001b[39msave_to_spreadsheet(data, \u001b[38;5;124mr\u001b[39m\u001b[38;5;124m\"\u001b[39m\u001b[38;5;124mC:\u001b[39m\u001b[38;5;124m\\\u001b[39m\u001b[38;5;124mUsers\u001b[39m\u001b[38;5;124m\\\u001b[39m\u001b[38;5;124mIKUN\u001b[39m\u001b[38;5;124m\\\u001b[39m\u001b[38;5;124mDesktop\u001b[39m\u001b[38;5;124m\\\u001b[39m\u001b[38;5;124mLeague Project\u001b[39m\u001b[38;5;124m\\\u001b[39m\u001b[38;5;124mdata\u001b[39m\u001b[38;5;124m\"\u001b[39m, \u001b[38;5;124m\"\u001b[39m\u001b[38;5;124mryan\u001b[39m\u001b[38;5;124m'\u001b[39m\u001b[38;5;124ms_K\u001b[39m\u001b[38;5;124m'\u001b[39m\u001b[38;5;124mSante_EndGame_data.csv\u001b[39m\u001b[38;5;124m\"\u001b[39m)\n",
      "\u001b[1;31mAttributeError\u001b[0m: module 'primary_user_fetch' has no attribute 'player_endGame_data_with_name_filter_champ'"
     ]
    }
   ],
   "source": [
    "data = fetch.player_endGame_data_with_name_filter_champ(\"Black hole\", \"King\", \"NA\", 60, \"K'Sante\")\n",
    "fetch.save_to_spreadsheet(data, r\"C:\\Users\\IKUN\\Desktop\\League Project\\data\", \"ryan's_K'Sante_EndGame_data.csv\")"
   ]
  },
  {
   "cell_type": "code",
   "execution_count": 20,
   "id": "b60b28c3",
   "metadata": {},
   "outputs": [
    {
     "ename": "AttributeError",
     "evalue": "'EventData' object has no attribute 'participantId'",
     "output_type": "error",
     "traceback": [
      "\u001b[1;31m---------------------------------------------------------------------------\u001b[0m",
      "\u001b[1;31mAttributeError\u001b[0m                            Traceback (most recent call last)",
      "Cell \u001b[1;32mIn[20], line 3\u001b[0m\n\u001b[0;32m      1\u001b[0m relevant_events \u001b[38;5;241m=\u001b[39m [\n\u001b[0;32m      2\u001b[0m                     event \u001b[38;5;28;01mfor\u001b[39;00m event \u001b[38;5;129;01min\u001b[39;00m vision_events\n\u001b[1;32m----> 3\u001b[0m                     \u001b[38;5;28;01mif\u001b[39;00m event\u001b[38;5;241m.\u001b[39mtimestamp \u001b[38;5;241m<\u001b[39m\u001b[38;5;241m=\u001b[39m datetime\u001b[38;5;241m.\u001b[39mtimedelta(minutes\u001b[38;5;241m=\u001b[39m\u001b[38;5;241m19\u001b[39m, seconds\u001b[38;5;241m=\u001b[39m\u001b[38;5;241m0\u001b[39m) \u001b[38;5;129;01mand\u001b[39;00m \u001b[43mevent\u001b[49m\u001b[38;5;241;43m.\u001b[39;49m\u001b[43mparticipant_id\u001b[49m \u001b[38;5;241m==\u001b[39m p\u001b[38;5;241m.\u001b[39mid\n\u001b[0;32m      4\u001b[0m                 ]\n\u001b[0;32m      6\u001b[0m \u001b[38;5;66;03m# Compute a simple vision score proxy\u001b[39;00m\n\u001b[0;32m      7\u001b[0m wards_placed \u001b[38;5;241m=\u001b[39m \u001b[38;5;28msum\u001b[39m(\u001b[38;5;241m1\u001b[39m \u001b[38;5;28;01mfor\u001b[39;00m event \u001b[38;5;129;01min\u001b[39;00m relevant_events \u001b[38;5;28;01mif\u001b[39;00m event\u001b[38;5;241m.\u001b[39mtype \u001b[38;5;241m==\u001b[39m \u001b[38;5;124m\"\u001b[39m\u001b[38;5;124mWARD_PLACED\u001b[39m\u001b[38;5;124m\"\u001b[39m)\n",
      "File \u001b[1;32mc:\\Users\\IKUN\\AppData\\Local\\Programs\\Python\\Python312\\Lib\\site-packages\\cassiopeia\\core\\match.py:699\u001b[0m, in \u001b[0;36mEvent.participant_id\u001b[1;34m(self)\u001b[0m\n\u001b[0;32m    697\u001b[0m \u001b[38;5;129m@property\u001b[39m\n\u001b[0;32m    698\u001b[0m \u001b[38;5;28;01mdef\u001b[39;00m \u001b[38;5;21mparticipant_id\u001b[39m(\u001b[38;5;28mself\u001b[39m) \u001b[38;5;241m-\u001b[39m\u001b[38;5;241m>\u001b[39m \u001b[38;5;28mint\u001b[39m:\n\u001b[1;32m--> 699\u001b[0m     \u001b[38;5;28;01mreturn\u001b[39;00m \u001b[38;5;28;43mself\u001b[39;49m\u001b[38;5;241;43m.\u001b[39;49m\u001b[43m_data\u001b[49m\u001b[43m[\u001b[49m\u001b[43mEventData\u001b[49m\u001b[43m]\u001b[49m\u001b[38;5;241;43m.\u001b[39;49m\u001b[43mparticipantId\u001b[49m\n",
      "\u001b[1;31mAttributeError\u001b[0m: 'EventData' object has no attribute 'participantId'"
     ]
    }
   ],
   "source": [
    "relevant_events = [\n",
    "                    event for event in vision_events\n",
    "                    if event.timestamp <= datetime.timedelta(minutes=19, seconds=0) and event.participant_id == p.id\n",
    "                ]\n",
    "\n",
    "# Compute a simple vision score proxy\n",
    "wards_placed = sum(1 for event in relevant_events if event.type == \"WARD_PLACED\")\n",
    "wards_killed = sum(1 for event in relevant_events if event.type == \"WARD_KILL\")\n",
    "on_time_vision_score = wards_placed * 1 + wards_killed * 1.5  # Adjust weights as necessary"
   ]
  }
 ],
 "metadata": {
  "kernelspec": {
   "display_name": "myenv",
   "language": "python",
   "name": "python3"
  },
  "language_info": {
   "codemirror_mode": {
    "name": "ipython",
    "version": 3
   },
   "file_extension": ".py",
   "mimetype": "text/x-python",
   "name": "python",
   "nbconvert_exporter": "python",
   "pygments_lexer": "ipython3",
   "version": "3.12.5"
  }
 },
 "nbformat": 4,
 "nbformat_minor": 5
}
