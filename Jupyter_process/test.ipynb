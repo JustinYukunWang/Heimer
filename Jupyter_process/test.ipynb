{
 "cells": [
  {
   "cell_type": "code",
   "execution_count": 1,
   "id": "f64383f1",
   "metadata": {},
   "outputs": [
    {
     "name": "stdout",
     "output_type": "stream",
     "text": [
      "RGAPI-17a738d9-a905-4101-a9b0-4e69e76bd377\n"
     ]
    }
   ],
   "source": [
    "import sys\n",
    "import os\n",
    "sys.path.append(os.path.abspath(\"../fetch_functions\"))\n",
    "import primary_user_fetch as fetch\n",
    "from dotenv import load_dotenv\n",
    "load_dotenv()\n",
    "KEY = os.getenv('API_KEY')\n",
    "print(KEY)"
   ]
  },
  {
   "cell_type": "code",
   "execution_count": 2,
   "id": "efb95a86-2733-4e58-913b-c0294a862b1e",
   "metadata": {},
   "outputs": [],
   "source": [
    "import datetime, requests\n",
    "import cassiopeia as cass\n",
    "from cassiopeia import Account\n",
    "from cassiopeia import core\n",
    "from cassiopeia import Queue, Tier, Division"
   ]
  },
  {
   "cell_type": "code",
   "execution_count": 3,
   "id": "73e44c14",
   "metadata": {},
   "outputs": [],
   "source": [
    "summonerId = 'rVOYILRZeDximfNCDxrRPlbt0hhnGboDuM7tbA7TNytZs9Yo'\n",
    "url = f\"https://na1.api.riotgames.com/lol/summoner/v4/summoners/{summonerId}?api_key={KEY}\"\n",
    "response = requests.get(url)\n",
    "data = response.json()"
   ]
  },
  {
   "cell_type": "code",
   "execution_count": 4,
   "id": "1c6495da",
   "metadata": {},
   "outputs": [
    {
     "data": {
      "text/plain": [
       "'Lo9f_SGCinU1p0NvGe_Lcff7Zmq7_6ELpp4ha9D3fHcegJIktvc7LcuGFzI4beBnMFnHqc3z6S2usw'"
      ]
     },
     "execution_count": 4,
     "metadata": {},
     "output_type": "execute_result"
    }
   ],
   "source": [
    "data['puuid']"
   ]
  },
  {
   "cell_type": "code",
   "execution_count": 5,
   "id": "f268db5b-c2b8-41ce-ad1d-dedc2c3d6ce6",
   "metadata": {},
   "outputs": [],
   "source": [
    "cass.set_riot_api_key(KEY)\n",
    "REGION = \"NA\""
   ]
  },
  {
   "cell_type": "code",
   "execution_count": 6,
   "id": "52b6afea",
   "metadata": {},
   "outputs": [],
   "source": [
    "name = \"拳头马斯了123\"\n",
    "tagline=\"44444\"\n",
    "region=\"NA\""
   ]
  },
  {
   "cell_type": "code",
   "execution_count": 7,
   "id": "3afab568",
   "metadata": {},
   "outputs": [
    {
     "name": "stdout",
     "output_type": "stream",
     "text": [
      "Making call: https://americas.api.riotgames.com/riot/account/v1/accounts/by-riot-id/拳头马斯了123/44444\n",
      "Making call: https://na1.api.riotgames.com/lol/summoner/v4/summoners/by-puuid/RXIgoy5rnjyPRVzMYeeEv5PdbBuRp4wrUXC5INSfwlHoyCYXuhluL8vRWkhA-xSQpwjJlJDPR5xnww\n",
      "Making call: https://na1.api.riotgames.com/lol/league/v4/entries/by-summoner/LIm_AC3lNf8udsn0_0Z8QD30MClaT8it7L61gxHnKKkoHZY\n"
     ]
    },
    {
     "data": {
      "text/plain": [
       "<Tier.emerald: 'EMERALD'>"
      ]
     },
     "execution_count": 7,
     "metadata": {},
     "output_type": "execute_result"
    }
   ],
   "source": [
    "account = cass.get_account(name=name, tagline=tagline, region=region)\n",
    "type(account)\n",
    "summoner = account.summoner\n",
    "entries = summoner.league_entries\n",
    "type(entries)\n",
    "entries.fives.tier"
   ]
  },
  {
   "cell_type": "code",
   "execution_count": null,
   "id": "baca239c",
   "metadata": {},
   "outputs": [],
   "source": [
    "#This block tests for fetching ranks \n",
    "\n",
    "entries = summoner.league_entries\n",
    "for entry in entries:\n",
    "        print(entry.league.name)\n",
    "print(f\"Listing all summoners in this league:\")\n",
    "for position, entry in enumerate(entries.fives.league.entries):\n",
    "    print(\n",
    "        entry.league_points,\n",
    "        entry.tier,\n",
    "        entry.division,\n",
    "        position,\n",
    "    )"
   ]
  },
  {
   "cell_type": "code",
   "execution_count": 42,
   "id": "37d82ec4",
   "metadata": {},
   "outputs": [
    {
     "data": {
      "text/plain": [
       "cassiopeia.core.league.LeagueEntry"
      ]
     },
     "execution_count": 42,
     "metadata": {},
     "output_type": "execute_result"
    }
   ],
   "source": [
    "type(entries.fives)"
   ]
  },
  {
   "cell_type": "code",
   "execution_count": null,
   "id": "c7530e36",
   "metadata": {},
   "outputs": [],
   "source": [
    "cass.get_league_entries()"
   ]
  },
  {
   "cell_type": "code",
   "execution_count": 43,
   "id": "62ab4b0f",
   "metadata": {},
   "outputs": [
    {
     "data": {
      "text/plain": [
       "'G5q6b_rNOkwk3GhAPUGc5WQVv5cmR2X4LUifgFqjFNpZkHCQH7uDg0SW23rq8864FME0-_5NUK-l1g'"
      ]
     },
     "execution_count": 43,
     "metadata": {},
     "output_type": "execute_result"
    }
   ],
   "source": [
    "p = entries.fives.league.entries[1]\n",
    "p.summoner.account.puuid"
   ]
  },
  {
   "cell_type": "code",
   "execution_count": 35,
   "id": "41d0214e",
   "metadata": {},
   "outputs": [
    {
     "name": "stdout",
     "output_type": "stream",
     "text": [
      "Master's League name:\n",
      "Making call: https://na1.api.riotgames.com/lol/league/v4/masterleagues/by-queue/RANKED_SOLO_5x5\n",
      "Sona's Scions\n"
     ]
    }
   ],
   "source": [
    "print(\"Master's League name:\")\n",
    "masters = cass.get_master_league(queue=Queue.ranked_solo_fives, region=region)\n",
    "print(masters.name)"
   ]
  },
  {
   "cell_type": "code",
   "execution_count": 7,
   "id": "8f75d201",
   "metadata": {},
   "outputs": [
    {
     "data": {
      "text/plain": [
       "'2IPkTfIvLAU3O9UZzwENXmJOXnyFESoDK6tf4OW9_-dvgqc9AyQflo3MqDQzccDxFN8-focd7JbuLQ'"
      ]
     },
     "execution_count": 7,
     "metadata": {},
     "output_type": "execute_result"
    }
   ],
   "source": [
    "account.puuid"
   ]
  },
  {
   "cell_type": "code",
   "execution_count": null,
   "id": "fb7f07b1",
   "metadata": {},
   "outputs": [
    {
     "name": "stdout",
     "output_type": "stream",
     "text": [
      "Making call: https://americas.api.riotgames.com/lol/match/v5/matches/by-puuid/2IPkTfIvLAU3O9UZzwENXmJOXnyFESoDK6tf4OW9_-dvgqc9AyQflo3MqDQzccDxFN8-focd7JbuLQ/ids?start=0&count=100\n"
     ]
    },
    {
     "data": {
      "text/plain": [
       "14.24"
      ]
     },
     "execution_count": 21,
     "metadata": {},
     "output_type": "execute_result"
    }
   ],
   "source": [
    "match_history = account.summoner.match_history\n",
    "\n",
    "match = match_history[0]\n",
    "parti = match.participants\n",
    "p = parti[0]\n",
    "p_stage = p.cumulative_timeline[\"5:00\"]\n",
    "\n",
    "p.lane == cass.data.Lane.top_lane\n",
    "\n",
    "latest_patch = cass.get_version(region='NA')#Here is how to get the lastest patch\n",
    "major_minor_patch = \".\".join(latest_patch.split(\".\")[:2])\n",
    "major_minor_patch\n",
    "num = float (major_minor_patch)\n",
    "num"
   ]
  },
  {
   "cell_type": "code",
   "execution_count": 9,
   "id": "06bfd02f",
   "metadata": {},
   "outputs": [
    {
     "name": "stdout",
     "output_type": "stream",
     "text": [
      "Making call: https://cdn.merakianalytics.com/riot/lol/resources/patches.json\n",
      "Making call: https://ddragon.leagueoflegends.com/api/versions.json\n",
      "Making call: https://ddragon.leagueoflegends.com/cdn/14.21.1/data/en_US/championFull.json\n",
      "Making call: https://ddragon.leagueoflegends.com/realms/na.json\n"
     ]
    },
    {
     "data": {
      "text/plain": [
       "'Rumble'"
      ]
     },
     "execution_count": 9,
     "metadata": {},
     "output_type": "execute_result"
    }
   ],
   "source": [
    "p.champion.name\n"
   ]
  },
  {
   "cell_type": "code",
   "execution_count": 11,
   "id": "ba7f0fb4",
   "metadata": {},
   "outputs": [],
   "source": [
    "match = cass.get_match(id=5185453360, region=\"NA\")"
   ]
  }
 ],
 "metadata": {
  "kernelspec": {
   "display_name": "myenv",
   "language": "python",
   "name": "python3"
  },
  "language_info": {
   "codemirror_mode": {
    "name": "ipython",
    "version": 3
   },
   "file_extension": ".py",
   "mimetype": "text/x-python",
   "name": "python",
   "nbconvert_exporter": "python",
   "pygments_lexer": "ipython3",
   "version": "3.13.1"
  }
 },
 "nbformat": 4,
 "nbformat_minor": 5
}
