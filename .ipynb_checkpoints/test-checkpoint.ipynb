{
 "cells": [
  {
   "cell_type": "code",
   "execution_count": 20,
   "id": "392dd555-7455-4d5f-aab1-8560b9be693a",
   "metadata": {},
   "outputs": [
    {
     "name": "stdout",
     "output_type": "stream",
     "text": [
      "Requirement already satisfied: cassiopeia in d:\\anaconda\\lib\\site-packages (5.1.3)\n",
      "Requirement already satisfied: datapipelines>=1.0.7 in d:\\anaconda\\lib\\site-packages (from cassiopeia) (1.0.7)\n",
      "Requirement already satisfied: merakicommons>=1.0.10 in d:\\anaconda\\lib\\site-packages (from cassiopeia) (1.0.10)\n",
      "Requirement already satisfied: Pillow in d:\\anaconda\\lib\\site-packages (from cassiopeia) (10.3.0)\n",
      "Requirement already satisfied: arrow in d:\\anaconda\\lib\\site-packages (from cassiopeia) (1.2.3)\n",
      "Requirement already satisfied: requests in d:\\anaconda\\lib\\site-packages (from cassiopeia) (2.32.2)\n",
      "Requirement already satisfied: networkx in d:\\anaconda\\lib\\site-packages (from datapipelines>=1.0.7->cassiopeia) (3.2.1)\n",
      "Requirement already satisfied: python-dateutil>=2.7.0 in d:\\anaconda\\lib\\site-packages (from arrow->cassiopeia) (2.9.0.post0)\n",
      "Requirement already satisfied: charset-normalizer<4,>=2 in d:\\anaconda\\lib\\site-packages (from requests->cassiopeia) (2.0.4)\n",
      "Requirement already satisfied: idna<4,>=2.5 in d:\\anaconda\\lib\\site-packages (from requests->cassiopeia) (3.7)\n",
      "Requirement already satisfied: urllib3<3,>=1.21.1 in d:\\anaconda\\lib\\site-packages (from requests->cassiopeia) (2.2.2)\n",
      "Requirement already satisfied: certifi>=2017.4.17 in d:\\anaconda\\lib\\site-packages (from requests->cassiopeia) (2024.7.4)\n",
      "Requirement already satisfied: six>=1.5 in d:\\anaconda\\lib\\site-packages (from python-dateutil>=2.7.0->arrow->cassiopeia) (1.16.0)\n"
     ]
    }
   ],
   "source": [
    "!pip install cassiopeia"
   ]
  },
  {
   "cell_type": "code",
   "execution_count": 28,
   "id": "efb95a86-2733-4e58-913b-c0294a862b1e",
   "metadata": {},
   "outputs": [],
   "source": [
    "import cassiopeia as cass"
   ]
  },
  {
   "cell_type": "code",
   "execution_count": null,
   "id": "f268db5b-c2b8-41ce-ad1d-dedc2c3d6ce6",
   "metadata": {},
   "outputs": [],
   "source": []
  }
 ],
 "metadata": {
  "kernelspec": {
   "display_name": "Python 3 (ipykernel)",
   "language": "python",
   "name": "python3"
  },
  "language_info": {
   "codemirror_mode": {
    "name": "ipython",
    "version": 3
   },
   "file_extension": ".py",
   "mimetype": "text/x-python",
   "name": "python",
   "nbconvert_exporter": "python",
   "pygments_lexer": "ipython3",
   "version": "3.12.4"
  }
 },
 "nbformat": 4,
 "nbformat_minor": 5
}
