{
 "cells": [
  {
   "cell_type": "code",
   "execution_count": 3,
   "id": "f64383f1",
   "metadata": {},
   "outputs": [
    {
     "name": "stdout",
     "output_type": "stream",
     "text": [
      "RGAPI-a3359399-1c25-4e34-8983-5b4d879d2e91\n"
     ]
    }
   ],
   "source": [
    "import sys\n",
    "import os\n",
    "sys.path.append(os.path.abspath(\"../fetch_functions\"))\n",
    "import primary_player_fetch as fetch\n",
    "from dotenv import load_dotenv\n",
    "load_dotenv()\n",
    "KEY = os.getenv('API_KEY')\n",
    "print(KEY)"
   ]
  },
  {
   "cell_type": "code",
   "execution_count": 4,
   "id": "efb95a86-2733-4e58-913b-c0294a862b1e",
   "metadata": {},
   "outputs": [],
   "source": [
    "import datetime, requests\n",
    "import cassiopeia as cass\n",
    "from cassiopeia import Account\n",
    "from cassiopeia import core\n",
    "from cassiopeia import Queue, Tier, Division"
   ]
  },
  {
   "cell_type": "code",
   "execution_count": 5,
   "id": "73e44c14",
   "metadata": {},
   "outputs": [],
   "source": [
    "summonerId = 'rVOYILRZeDximfNCDxrRPlbt0hhnGboDuM7tbA7TNytZs9Yo'\n",
    "url = f\"https://na1.api.riotgames.com/lol/summoner/v4/summoners/{summonerId}?api_key={KEY}\"\n",
    "response = requests.get(url)\n",
    "data = response.json()"
   ]
  },
  {
   "cell_type": "code",
   "execution_count": 6,
   "id": "1c6495da",
   "metadata": {},
   "outputs": [
    {
     "data": {
      "text/plain": [
       "'Lo9f_SGCinU1p0NvGe_Lcff7Zmq7_6ELpp4ha9D3fHcegJIktvc7LcuGFzI4beBnMFnHqc3z6S2usw'"
      ]
     },
     "execution_count": 6,
     "metadata": {},
     "output_type": "execute_result"
    }
   ],
   "source": [
    "data['puuid']"
   ]
  },
  {
   "cell_type": "code",
   "execution_count": 7,
   "id": "f268db5b-c2b8-41ce-ad1d-dedc2c3d6ce6",
   "metadata": {},
   "outputs": [],
   "source": [
    "cass.set_riot_api_key(KEY)\n",
    "REGION = \"NA\""
   ]
  },
  {
   "cell_type": "code",
   "execution_count": 10,
   "id": "52b6afea",
   "metadata": {},
   "outputs": [],
   "source": [
    "name = \"Will\"\n",
    "tagline=\"NA12\"\n",
    "region=\"NA\""
   ]
  },
  {
   "cell_type": "code",
   "execution_count": 11,
   "id": "3afab568",
   "metadata": {},
   "outputs": [
    {
     "name": "stdout",
     "output_type": "stream",
     "text": [
      "Making call: https://americas.api.riotgames.com/riot/account/v1/accounts/by-riot-id/Will/NA12\n",
      "Making call: https://na1.api.riotgames.com/lol/summoner/v4/summoners/by-puuid/3TKjmtH_fkOG26XJkigz_5xhy8_IK-px3Zp6BJ8XWDayl5YQT6c0GB_iB4ebOHeV21CtMUIjbjNW8w\n",
      "Making call: https://na1.api.riotgames.com/lol/league/v4/entries/by-summoner/Ra8zhUonmGlt8CM5HhDi_IIQzAqX0ldU7Hup0aXhi15F6KA\n"
     ]
    },
    {
     "data": {
      "text/plain": [
       "<Tier.challenger: 'CHALLENGER'>"
      ]
     },
     "execution_count": 11,
     "metadata": {},
     "output_type": "execute_result"
    }
   ],
   "source": [
    "account = cass.get_account(name=name, tagline=tagline, region=region)\n",
    "type(account)\n",
    "summoner = account.summoner\n",
    "entries = summoner.league_entries\n",
    "type(entries)\n",
    "entries.fives.tier"
   ]
  },
  {
   "cell_type": "code",
   "execution_count": 15,
   "id": "a707c7da",
   "metadata": {},
   "outputs": [
    {
     "data": {
      "text/plain": [
       "'3TKjmtH_fkOG26XJkigz_5xhy8_IK-px3Zp6BJ8XWDayl5YQT6c0GB_iB4ebOHeV21CtMUIjbjNW8w'"
      ]
     },
     "execution_count": 15,
     "metadata": {},
     "output_type": "execute_result"
    }
   ],
   "source": [
    "url = f'https://americas.api.riotgames.com/riot/account/v1/accounts/by-riot-id/{name}/{tagline}?api_key={KEY}'\n",
    "acc = requests.get(url)\n",
    "acc_dict = acc.json()\n",
    "puuid = acc_dict['puuid']\n",
    "puuid"
   ]
  },
  {
   "cell_type": "code",
   "execution_count": null,
   "id": "ae46927b",
   "metadata": {},
   "outputs": [],
   "source": []
  },
  {
   "cell_type": "code",
   "execution_count": null,
   "id": "baca239c",
   "metadata": {},
   "outputs": [],
   "source": [
    "#This block tests for fetching ranks \n",
    "\n",
    "entries = summoner.league_entries\n",
    "for entry in entries:\n",
    "        print(entry.league.name)\n",
    "print(f\"Listing all summoners in this league:\")\n",
    "for position, entry in enumerate(entries.fives.league.entries):\n",
    "    print(\n",
    "        entry.league_points,\n",
    "        entry.tier,\n",
    "        entry.division,\n",
    "        position,\n",
    "    )"
   ]
  }
 ],
 "metadata": {
  "kernelspec": {
   "display_name": "myenv",
   "language": "python",
   "name": "python3"
  },
  "language_info": {
   "codemirror_mode": {
    "name": "ipython",
    "version": 3
   },
   "file_extension": ".py",
   "mimetype": "text/x-python",
   "name": "python",
   "nbconvert_exporter": "python",
   "pygments_lexer": "ipython3",
   "version": "3.13.1"
  }
 },
 "nbformat": 4,
 "nbformat_minor": 5
}
